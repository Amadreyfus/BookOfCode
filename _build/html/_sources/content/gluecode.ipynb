{
 "cells": [
  {
   "cell_type": "markdown",
   "metadata": {},
   "source": [
    "(glue_code)=\n",
    "# GlueCode"
   ]
  },
  {
   "cell_type": "code",
   "execution_count": 6,
   "metadata": {},
   "outputs": [],
   "source": [
    "from myst_nb import glue"
   ]
  },
  {
   "cell_type": "code",
   "execution_count": 2,
   "metadata": {},
   "outputs": [
    {
     "name": "stdout",
     "output_type": "stream",
     "text": [
      "The slowest run took 184.52 times longer than the fastest. This could mean that an intermediate result is being cached.\n",
      "41.4 µs ± 23.8 µs per loop (mean ± std. dev. of 100 runs, 3000 loops each)\n"
     ]
    }
   ],
   "source": [
    "c0 = []\n",
    "t_insert = %timeit -o -n3000 -r100 c0.insert(0, 'a')"
   ]
  },
  {
   "cell_type": "code",
   "execution_count": 7,
   "metadata": {},
   "outputs": [
    {
     "data": {
      "text/plain": [
       "<TimeitResult : 41.4 µs ± 23.8 µs per loop (mean ± std. dev. of 100 runs, 3000 loops each)>"
      ]
     },
     "metadata": {
      "scrapbook": {
       "mime_prefix": "",
       "name": "t_insert"
      }
     },
     "output_type": "display_data"
    }
   ],
   "source": [
    "glue('t_insert', t_insert)"
   ]
  },
  {
   "cell_type": "code",
   "execution_count": 3,
   "metadata": {},
   "outputs": [
    {
     "name": "stdout",
     "output_type": "stream",
     "text": [
      "44 ns ± 19.3 ns per loop (mean ± std. dev. of 100 runs, 3000 loops each)\n"
     ]
    }
   ],
   "source": [
    "c1 = []\n",
    "t_append = %timeit -o -n3000 -r100 c1.append('a')"
   ]
  },
  {
   "cell_type": "code",
   "execution_count": 8,
   "metadata": {},
   "outputs": [
    {
     "data": {
      "text/plain": [
       "<TimeitResult : 44 ns ± 19.3 ns per loop (mean ± std. dev. of 100 runs, 3000 loops each)>"
      ]
     },
     "metadata": {
      "scrapbook": {
       "mime_prefix": "",
       "name": "t_append"
      }
     },
     "output_type": "display_data"
    }
   ],
   "source": [
    "glue('t_append', t_append)"
   ]
  },
  {
   "cell_type": "code",
   "execution_count": 5,
   "metadata": {},
   "outputs": [
    {
     "name": "stdout",
     "output_type": "stream",
     "text": [
      "\n",
      "==> (insert time) / (append time) for 300,000 ops: ~ 939.0619043181326x\n"
     ]
    }
   ],
   "source": [
    "#Verify that both lists are the same\n",
    "assert all([a == b for a, b in zip(c0, c1)]), \"Answers differed?\"\n",
    "\n",
    "# Report the ratio of execution times\n",
    "print(f\"\\n==> (insert time) / (append time) for 300,000 ops: ~ {t_insert.average/t_append.average}x\")"
   ]
  },
  {
   "cell_type": "code",
   "execution_count": null,
   "metadata": {},
   "outputs": [],
   "source": [
    "glue('t_ratio', (t_insert.average/t_append.average))"
   ]
  }
 ],
 "metadata": {
  "kernelspec": {
   "display_name": "Python 3",
   "language": "python",
   "name": "python3"
  },
  "language_info": {
   "codemirror_mode": {
    "name": "ipython",
    "version": 3
   },
   "file_extension": ".py",
   "mimetype": "text/x-python",
   "name": "python",
   "nbconvert_exporter": "python",
   "pygments_lexer": "ipython3",
   "version": "3.8.3"
  }
 },
 "nbformat": 4,
 "nbformat_minor": 4
}
