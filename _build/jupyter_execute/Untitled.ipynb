{
 "cells": [
  {
   "cell_type": "code",
   "execution_count": 1,
   "metadata": {
    "execution": {
     "iopub.execute_input": "2020-10-06T14:48:01.874725Z",
     "iopub.status.busy": "2020-10-06T14:48:01.874161Z",
     "iopub.status.idle": "2020-10-06T14:48:02.293652Z",
     "shell.execute_reply": "2020-10-06T14:48:02.293940Z"
    }
   },
   "outputs": [],
   "source": [
    "import pandas as pd\n",
    "import numpy as np\n",
    "import pandas_datareader.data as web\n",
    "from datetime import datetime"
   ]
  },
  {
   "cell_type": "code",
   "execution_count": 2,
   "metadata": {
    "execution": {
     "iopub.execute_input": "2020-10-06T14:48:02.299205Z",
     "iopub.status.busy": "2020-10-06T14:48:02.298820Z",
     "iopub.status.idle": "2020-10-06T14:48:03.848518Z",
     "shell.execute_reply": "2020-10-06T14:48:03.848177Z"
    }
   },
   "outputs": [],
   "source": [
    "f = web.DataReader(\"GOOGL\", \"av-daily-adjusted\", start=datetime(2016, 10, 1),\n",
    "   ...:                    end=datetime(2020, 10, 1),\n",
    "   ...:                    api_key='XGZ3LT2XOAH7BOPT')"
   ]
  },
  {
   "cell_type": "code",
   "execution_count": 3,
   "metadata": {
    "execution": {
     "iopub.execute_input": "2020-10-06T14:48:03.861651Z",
     "iopub.status.busy": "2020-10-06T14:48:03.861251Z",
     "iopub.status.idle": "2020-10-06T14:48:03.871127Z",
     "shell.execute_reply": "2020-10-06T14:48:03.870827Z"
    }
   },
   "outputs": [
    {
     "data": {
      "text/html": [
       "<div>\n",
       "<style scoped>\n",
       "    .dataframe tbody tr th:only-of-type {\n",
       "        vertical-align: middle;\n",
       "    }\n",
       "\n",
       "    .dataframe tbody tr th {\n",
       "        vertical-align: top;\n",
       "    }\n",
       "\n",
       "    .dataframe thead th {\n",
       "        text-align: right;\n",
       "    }\n",
       "</style>\n",
       "<table border=\"1\" class=\"dataframe\">\n",
       "  <thead>\n",
       "    <tr style=\"text-align: right;\">\n",
       "      <th></th>\n",
       "      <th>open</th>\n",
       "      <th>high</th>\n",
       "      <th>low</th>\n",
       "      <th>close</th>\n",
       "      <th>adjusted close</th>\n",
       "      <th>volume</th>\n",
       "      <th>dividend amount</th>\n",
       "      <th>split coefficient</th>\n",
       "    </tr>\n",
       "  </thead>\n",
       "  <tbody>\n",
       "    <tr>\n",
       "      <th>2016-10-03</th>\n",
       "      <td>802.5500</td>\n",
       "      <td>803.5400</td>\n",
       "      <td>796.230</td>\n",
       "      <td>800.38</td>\n",
       "      <td>800.38</td>\n",
       "      <td>1489212</td>\n",
       "      <td>0.0</td>\n",
       "      <td>1.0</td>\n",
       "    </tr>\n",
       "    <tr>\n",
       "      <th>2016-10-04</th>\n",
       "      <td>805.0000</td>\n",
       "      <td>806.5000</td>\n",
       "      <td>799.670</td>\n",
       "      <td>802.79</td>\n",
       "      <td>802.79</td>\n",
       "      <td>1258706</td>\n",
       "      <td>0.0</td>\n",
       "      <td>1.0</td>\n",
       "    </tr>\n",
       "    <tr>\n",
       "      <th>2016-10-05</th>\n",
       "      <td>806.0000</td>\n",
       "      <td>808.5000</td>\n",
       "      <td>800.710</td>\n",
       "      <td>801.23</td>\n",
       "      <td>801.23</td>\n",
       "      <td>1213820</td>\n",
       "      <td>0.0</td>\n",
       "      <td>1.0</td>\n",
       "    </tr>\n",
       "    <tr>\n",
       "      <th>2016-10-06</th>\n",
       "      <td>804.0800</td>\n",
       "      <td>806.9450</td>\n",
       "      <td>800.510</td>\n",
       "      <td>803.08</td>\n",
       "      <td>803.08</td>\n",
       "      <td>1099909</td>\n",
       "      <td>0.0</td>\n",
       "      <td>1.0</td>\n",
       "    </tr>\n",
       "    <tr>\n",
       "      <th>2016-10-07</th>\n",
       "      <td>805.9300</td>\n",
       "      <td>805.9400</td>\n",
       "      <td>796.820</td>\n",
       "      <td>800.71</td>\n",
       "      <td>800.71</td>\n",
       "      <td>1163899</td>\n",
       "      <td>0.0</td>\n",
       "      <td>1.0</td>\n",
       "    </tr>\n",
       "    <tr>\n",
       "      <th>...</th>\n",
       "      <td>...</td>\n",
       "      <td>...</td>\n",
       "      <td>...</td>\n",
       "      <td>...</td>\n",
       "      <td>...</td>\n",
       "      <td>...</td>\n",
       "      <td>...</td>\n",
       "      <td>...</td>\n",
       "    </tr>\n",
       "    <tr>\n",
       "      <th>2020-09-25</th>\n",
       "      <td>1425.0500</td>\n",
       "      <td>1445.9400</td>\n",
       "      <td>1407.680</td>\n",
       "      <td>1439.06</td>\n",
       "      <td>1439.06</td>\n",
       "      <td>1516677</td>\n",
       "      <td>0.0</td>\n",
       "      <td>1.0</td>\n",
       "    </tr>\n",
       "    <tr>\n",
       "      <th>2020-09-28</th>\n",
       "      <td>1471.9900</td>\n",
       "      <td>1472.9900</td>\n",
       "      <td>1446.280</td>\n",
       "      <td>1458.66</td>\n",
       "      <td>1458.66</td>\n",
       "      <td>1539236</td>\n",
       "      <td>0.0</td>\n",
       "      <td>1.0</td>\n",
       "    </tr>\n",
       "    <tr>\n",
       "      <th>2020-09-29</th>\n",
       "      <td>1463.9100</td>\n",
       "      <td>1472.0000</td>\n",
       "      <td>1454.000</td>\n",
       "      <td>1466.02</td>\n",
       "      <td>1466.02</td>\n",
       "      <td>1591112</td>\n",
       "      <td>0.0</td>\n",
       "      <td>1.0</td>\n",
       "    </tr>\n",
       "    <tr>\n",
       "      <th>2020-09-30</th>\n",
       "      <td>1460.9350</td>\n",
       "      <td>1486.1975</td>\n",
       "      <td>1455.755</td>\n",
       "      <td>1465.60</td>\n",
       "      <td>1465.60</td>\n",
       "      <td>2046170</td>\n",
       "      <td>0.0</td>\n",
       "      <td>1.0</td>\n",
       "    </tr>\n",
       "    <tr>\n",
       "      <th>2020-10-01</th>\n",
       "      <td>1483.6608</td>\n",
       "      <td>1495.0700</td>\n",
       "      <td>1476.800</td>\n",
       "      <td>1487.90</td>\n",
       "      <td>1487.90</td>\n",
       "      <td>1644221</td>\n",
       "      <td>0.0</td>\n",
       "      <td>1.0</td>\n",
       "    </tr>\n",
       "  </tbody>\n",
       "</table>\n",
       "<p>1007 rows × 8 columns</p>\n",
       "</div>"
      ],
      "text/plain": [
       "                 open       high       low    close  adjusted close   volume  \\\n",
       "2016-10-03   802.5500   803.5400   796.230   800.38          800.38  1489212   \n",
       "2016-10-04   805.0000   806.5000   799.670   802.79          802.79  1258706   \n",
       "2016-10-05   806.0000   808.5000   800.710   801.23          801.23  1213820   \n",
       "2016-10-06   804.0800   806.9450   800.510   803.08          803.08  1099909   \n",
       "2016-10-07   805.9300   805.9400   796.820   800.71          800.71  1163899   \n",
       "...               ...        ...       ...      ...             ...      ...   \n",
       "2020-09-25  1425.0500  1445.9400  1407.680  1439.06         1439.06  1516677   \n",
       "2020-09-28  1471.9900  1472.9900  1446.280  1458.66         1458.66  1539236   \n",
       "2020-09-29  1463.9100  1472.0000  1454.000  1466.02         1466.02  1591112   \n",
       "2020-09-30  1460.9350  1486.1975  1455.755  1465.60         1465.60  2046170   \n",
       "2020-10-01  1483.6608  1495.0700  1476.800  1487.90         1487.90  1644221   \n",
       "\n",
       "            dividend amount  split coefficient  \n",
       "2016-10-03              0.0                1.0  \n",
       "2016-10-04              0.0                1.0  \n",
       "2016-10-05              0.0                1.0  \n",
       "2016-10-06              0.0                1.0  \n",
       "2016-10-07              0.0                1.0  \n",
       "...                     ...                ...  \n",
       "2020-09-25              0.0                1.0  \n",
       "2020-09-28              0.0                1.0  \n",
       "2020-09-29              0.0                1.0  \n",
       "2020-09-30              0.0                1.0  \n",
       "2020-10-01              0.0                1.0  \n",
       "\n",
       "[1007 rows x 8 columns]"
      ]
     },
     "execution_count": 3,
     "metadata": {},
     "output_type": "execute_result"
    }
   ],
   "source": [
    "f"
   ]
  },
  {
   "cell_type": "code",
   "execution_count": 4,
   "metadata": {
    "execution": {
     "iopub.execute_input": "2020-10-06T14:48:03.875025Z",
     "iopub.status.busy": "2020-10-06T14:48:03.874682Z",
     "iopub.status.idle": "2020-10-06T14:48:03.877695Z",
     "shell.execute_reply": "2020-10-06T14:48:03.877332Z"
    }
   },
   "outputs": [
    {
     "data": {
      "text/plain": [
       "DatetimeIndex(['2016-10-03', '2016-10-04', '2016-10-05', '2016-10-06',\n",
       "               '2016-10-07', '2016-10-10', '2016-10-11', '2016-10-12',\n",
       "               '2016-10-13', '2016-10-14',\n",
       "               ...\n",
       "               '2020-09-18', '2020-09-21', '2020-09-22', '2020-09-23',\n",
       "               '2020-09-24', '2020-09-25', '2020-09-28', '2020-09-29',\n",
       "               '2020-09-30', '2020-10-01'],\n",
       "              dtype='datetime64[ns]', length=1007, freq=None)"
      ]
     },
     "execution_count": 4,
     "metadata": {},
     "output_type": "execute_result"
    }
   ],
   "source": [
    "pd.DatetimeIndex(f.index)"
   ]
  },
  {
   "cell_type": "code",
   "execution_count": 5,
   "metadata": {
    "execution": {
     "iopub.execute_input": "2020-10-06T14:48:03.890752Z",
     "iopub.status.busy": "2020-10-06T14:48:03.882168Z",
     "iopub.status.idle": "2020-10-06T14:48:03.893741Z",
     "shell.execute_reply": "2020-10-06T14:48:03.893421Z"
    }
   },
   "outputs": [
    {
     "data": {
      "text/html": [
       "<div>\n",
       "<style scoped>\n",
       "    .dataframe tbody tr th:only-of-type {\n",
       "        vertical-align: middle;\n",
       "    }\n",
       "\n",
       "    .dataframe tbody tr th {\n",
       "        vertical-align: top;\n",
       "    }\n",
       "\n",
       "    .dataframe thead th {\n",
       "        text-align: right;\n",
       "    }\n",
       "</style>\n",
       "<table border=\"1\" class=\"dataframe\">\n",
       "  <thead>\n",
       "    <tr style=\"text-align: right;\">\n",
       "      <th></th>\n",
       "      <th>open</th>\n",
       "      <th>high</th>\n",
       "      <th>low</th>\n",
       "      <th>close</th>\n",
       "      <th>adjusted close</th>\n",
       "      <th>volume</th>\n",
       "      <th>dividend amount</th>\n",
       "      <th>split coefficient</th>\n",
       "    </tr>\n",
       "  </thead>\n",
       "  <tbody>\n",
       "    <tr>\n",
       "      <th>2020-01-02</th>\n",
       "      <td>1348.4100</td>\n",
       "      <td>1368.6800</td>\n",
       "      <td>1346.490</td>\n",
       "      <td>1368.68</td>\n",
       "      <td>1368.68</td>\n",
       "      <td>1364265</td>\n",
       "      <td>0.0</td>\n",
       "      <td>1.0</td>\n",
       "    </tr>\n",
       "    <tr>\n",
       "      <th>2020-01-03</th>\n",
       "      <td>1348.0000</td>\n",
       "      <td>1373.7500</td>\n",
       "      <td>1347.320</td>\n",
       "      <td>1361.52</td>\n",
       "      <td>1361.52</td>\n",
       "      <td>1170629</td>\n",
       "      <td>0.0</td>\n",
       "      <td>1.0</td>\n",
       "    </tr>\n",
       "    <tr>\n",
       "      <th>2020-01-06</th>\n",
       "      <td>1351.6300</td>\n",
       "      <td>1398.3200</td>\n",
       "      <td>1351.000</td>\n",
       "      <td>1397.81</td>\n",
       "      <td>1397.81</td>\n",
       "      <td>2339343</td>\n",
       "      <td>0.0</td>\n",
       "      <td>1.0</td>\n",
       "    </tr>\n",
       "    <tr>\n",
       "      <th>2020-01-07</th>\n",
       "      <td>1400.4600</td>\n",
       "      <td>1403.5000</td>\n",
       "      <td>1391.560</td>\n",
       "      <td>1395.11</td>\n",
       "      <td>1395.11</td>\n",
       "      <td>1726456</td>\n",
       "      <td>0.0</td>\n",
       "      <td>1.0</td>\n",
       "    </tr>\n",
       "    <tr>\n",
       "      <th>2020-01-08</th>\n",
       "      <td>1394.8200</td>\n",
       "      <td>1411.8500</td>\n",
       "      <td>1392.630</td>\n",
       "      <td>1405.04</td>\n",
       "      <td>1405.04</td>\n",
       "      <td>1766274</td>\n",
       "      <td>0.0</td>\n",
       "      <td>1.0</td>\n",
       "    </tr>\n",
       "    <tr>\n",
       "      <th>...</th>\n",
       "      <td>...</td>\n",
       "      <td>...</td>\n",
       "      <td>...</td>\n",
       "      <td>...</td>\n",
       "      <td>...</td>\n",
       "      <td>...</td>\n",
       "      <td>...</td>\n",
       "      <td>...</td>\n",
       "    </tr>\n",
       "    <tr>\n",
       "      <th>2020-09-25</th>\n",
       "      <td>1425.0500</td>\n",
       "      <td>1445.9400</td>\n",
       "      <td>1407.680</td>\n",
       "      <td>1439.06</td>\n",
       "      <td>1439.06</td>\n",
       "      <td>1516677</td>\n",
       "      <td>0.0</td>\n",
       "      <td>1.0</td>\n",
       "    </tr>\n",
       "    <tr>\n",
       "      <th>2020-09-28</th>\n",
       "      <td>1471.9900</td>\n",
       "      <td>1472.9900</td>\n",
       "      <td>1446.280</td>\n",
       "      <td>1458.66</td>\n",
       "      <td>1458.66</td>\n",
       "      <td>1539236</td>\n",
       "      <td>0.0</td>\n",
       "      <td>1.0</td>\n",
       "    </tr>\n",
       "    <tr>\n",
       "      <th>2020-09-29</th>\n",
       "      <td>1463.9100</td>\n",
       "      <td>1472.0000</td>\n",
       "      <td>1454.000</td>\n",
       "      <td>1466.02</td>\n",
       "      <td>1466.02</td>\n",
       "      <td>1591112</td>\n",
       "      <td>0.0</td>\n",
       "      <td>1.0</td>\n",
       "    </tr>\n",
       "    <tr>\n",
       "      <th>2020-09-30</th>\n",
       "      <td>1460.9350</td>\n",
       "      <td>1486.1975</td>\n",
       "      <td>1455.755</td>\n",
       "      <td>1465.60</td>\n",
       "      <td>1465.60</td>\n",
       "      <td>2046170</td>\n",
       "      <td>0.0</td>\n",
       "      <td>1.0</td>\n",
       "    </tr>\n",
       "    <tr>\n",
       "      <th>2020-10-01</th>\n",
       "      <td>1483.6608</td>\n",
       "      <td>1495.0700</td>\n",
       "      <td>1476.800</td>\n",
       "      <td>1487.90</td>\n",
       "      <td>1487.90</td>\n",
       "      <td>1644221</td>\n",
       "      <td>0.0</td>\n",
       "      <td>1.0</td>\n",
       "    </tr>\n",
       "  </tbody>\n",
       "</table>\n",
       "<p>190 rows × 8 columns</p>\n",
       "</div>"
      ],
      "text/plain": [
       "                 open       high       low    close  adjusted close   volume  \\\n",
       "2020-01-02  1348.4100  1368.6800  1346.490  1368.68         1368.68  1364265   \n",
       "2020-01-03  1348.0000  1373.7500  1347.320  1361.52         1361.52  1170629   \n",
       "2020-01-06  1351.6300  1398.3200  1351.000  1397.81         1397.81  2339343   \n",
       "2020-01-07  1400.4600  1403.5000  1391.560  1395.11         1395.11  1726456   \n",
       "2020-01-08  1394.8200  1411.8500  1392.630  1405.04         1405.04  1766274   \n",
       "...               ...        ...       ...      ...             ...      ...   \n",
       "2020-09-25  1425.0500  1445.9400  1407.680  1439.06         1439.06  1516677   \n",
       "2020-09-28  1471.9900  1472.9900  1446.280  1458.66         1458.66  1539236   \n",
       "2020-09-29  1463.9100  1472.0000  1454.000  1466.02         1466.02  1591112   \n",
       "2020-09-30  1460.9350  1486.1975  1455.755  1465.60         1465.60  2046170   \n",
       "2020-10-01  1483.6608  1495.0700  1476.800  1487.90         1487.90  1644221   \n",
       "\n",
       "            dividend amount  split coefficient  \n",
       "2020-01-02              0.0                1.0  \n",
       "2020-01-03              0.0                1.0  \n",
       "2020-01-06              0.0                1.0  \n",
       "2020-01-07              0.0                1.0  \n",
       "2020-01-08              0.0                1.0  \n",
       "...                     ...                ...  \n",
       "2020-09-25              0.0                1.0  \n",
       "2020-09-28              0.0                1.0  \n",
       "2020-09-29              0.0                1.0  \n",
       "2020-09-30              0.0                1.0  \n",
       "2020-10-01              0.0                1.0  \n",
       "\n",
       "[190 rows x 8 columns]"
      ]
     },
     "execution_count": 5,
     "metadata": {},
     "output_type": "execute_result"
    }
   ],
   "source": [
    "f['2020-01-01':'2020-12-31']"
   ]
  },
  {
   "cell_type": "code",
   "execution_count": 6,
   "metadata": {
    "execution": {
     "iopub.execute_input": "2020-10-06T14:48:03.897031Z",
     "iopub.status.busy": "2020-10-06T14:48:03.896651Z",
     "iopub.status.idle": "2020-10-06T14:48:04.481243Z",
     "shell.execute_reply": "2020-10-06T14:48:04.480930Z"
    }
   },
   "outputs": [],
   "source": [
    "%matplotlib inline\n",
    "import matplotlib.pyplot as plt\n",
    "import seaborn; seaborn.set()"
   ]
  },
  {
   "cell_type": "code",
   "execution_count": 7,
   "metadata": {
    "execution": {
     "iopub.execute_input": "2020-10-06T14:48:04.484126Z",
     "iopub.status.busy": "2020-10-06T14:48:04.483764Z",
     "iopub.status.idle": "2020-10-06T14:48:04.485838Z",
     "shell.execute_reply": "2020-10-06T14:48:04.485527Z"
    }
   },
   "outputs": [],
   "source": [
    "close = f.close"
   ]
  },
  {
   "cell_type": "code",
   "execution_count": 8,
   "metadata": {
    "execution": {
     "iopub.execute_input": "2020-10-06T14:48:04.488694Z",
     "iopub.status.busy": "2020-10-06T14:48:04.488340Z",
     "iopub.status.idle": "2020-10-06T14:48:04.490658Z",
     "shell.execute_reply": "2020-10-06T14:48:04.490267Z"
    }
   },
   "outputs": [],
   "source": [
    "close.index = pd.DatetimeIndex(close.index)"
   ]
  },
  {
   "cell_type": "code",
   "execution_count": 9,
   "metadata": {
    "execution": {
     "iopub.execute_input": "2020-10-06T14:48:04.493018Z",
     "iopub.status.busy": "2020-10-06T14:48:04.492640Z",
     "iopub.status.idle": "2020-10-06T14:48:04.770266Z",
     "shell.execute_reply": "2020-10-06T14:48:04.769935Z"
    }
   },
   "outputs": [
    {
     "data": {
      "text/plain": [
       "<matplotlib.axes._subplots.AxesSubplot at 0x7f4de8f77910>"
      ]
     },
     "execution_count": 9,
     "metadata": {},
     "output_type": "execute_result"
    },
    {
     "data": {
      "image/png": "[encoded data removed]",
      "text/plain": [
       "<Figure size 432x288 with 1 Axes>"
      ]
     },
     "metadata": {
      "filenames": {
       "image/png": "/mnt/c/Users/Seanj/JupyterFolder/BookOfCode/_build/jupyter_execute/Untitled_8_1.png"
      }
     },
     "output_type": "display_data"
    }
   ],
   "source": [
    "close.plot()"
   ]
  },
  {
   "cell_type": "code",
   "execution_count": 10,
   "metadata": {
    "execution": {
     "iopub.execute_input": "2020-10-06T14:48:04.778653Z",
     "iopub.status.busy": "2020-10-06T14:48:04.775703Z",
     "iopub.status.idle": "2020-10-06T14:48:05.023935Z",
     "shell.execute_reply": "2020-10-06T14:48:05.023569Z"
    }
   },
   "outputs": [
    {
     "data": {
      "text/plain": [
       "<matplotlib.axes._subplots.AxesSubplot at 0x7f4de8739cd0>"
      ]
     },
     "execution_count": 10,
     "metadata": {},
     "output_type": "execute_result"
    },
    {
     "data": {
      "image/png": "[encoded data removed]",
      "text/plain": [
       "<Figure size 432x288 with 1 Axes>"
      ]
     },
     "metadata": {
      "filenames": {
       "image/png": "/mnt/c/Users/Seanj/JupyterFolder/BookOfCode/_build/jupyter_execute/Untitled_9_1.png"
      }
     },
     "output_type": "display_data"
    }
   ],
   "source": [
    "close.plot(alpha=.5, style='-')"
   ]
  },
  {
   "cell_type": "code",
   "execution_count": 11,
   "metadata": {
    "execution": {
     "iopub.execute_input": "2020-10-06T14:48:05.026785Z",
     "iopub.status.busy": "2020-10-06T14:48:05.026432Z",
     "iopub.status.idle": "2020-10-06T14:48:05.160172Z",
     "shell.execute_reply": "2020-10-06T14:48:05.159785Z"
    }
   },
   "outputs": [
    {
     "data": {
      "text/plain": [
       "<matplotlib.axes._subplots.AxesSubplot at 0x7f4de86bda60>"
      ]
     },
     "execution_count": 11,
     "metadata": {},
     "output_type": "execute_result"
    },
    {
     "data": {
      "image/png": "[encoded data removed]",
      "text/plain": [
       "<Figure size 432x288 with 1 Axes>"
      ]
     },
     "metadata": {
      "filenames": {
       "image/png": "/mnt/c/Users/Seanj/JupyterFolder/BookOfCode/_build/jupyter_execute/Untitled_10_1.png"
      }
     },
     "output_type": "display_data"
    }
   ],
   "source": [
    "close.resample('BA').mean().plot(style=':')"
   ]
  },
  {
   "cell_type": "code",
   "execution_count": 12,
   "metadata": {
    "execution": {
     "iopub.execute_input": "2020-10-06T14:48:05.169174Z",
     "iopub.status.busy": "2020-10-06T14:48:05.162936Z",
     "iopub.status.idle": "2020-10-06T14:48:05.279428Z",
     "shell.execute_reply": "2020-10-06T14:48:05.279706Z"
    }
   },
   "outputs": [
    {
     "data": {
      "text/plain": [
       "<matplotlib.axes._subplots.AxesSubplot at 0x7f4de861ffd0>"
      ]
     },
     "execution_count": 12,
     "metadata": {},
     "output_type": "execute_result"
    },
    {
     "data": {
      "image/png": "[encoded data removed]",
      "text/plain": [
       "<Figure size 432x288 with 1 Axes>"
      ]
     },
     "metadata": {
      "filenames": {
       "image/png": "/mnt/c/Users/Seanj/JupyterFolder/BookOfCode/_build/jupyter_execute/Untitled_11_1.png"
      }
     },
     "output_type": "display_data"
    }
   ],
   "source": [
    "close.asfreq('BA').plot(style='--')"
   ]
  },
  {
   "cell_type": "code",
   "execution_count": 13,
   "metadata": {
    "execution": {
     "iopub.execute_input": "2020-10-06T14:48:05.289379Z",
     "iopub.status.busy": "2020-10-06T14:48:05.285169Z",
     "iopub.status.idle": "2020-10-06T14:48:05.577951Z",
     "shell.execute_reply": "2020-10-06T14:48:05.577591Z"
    }
   },
   "outputs": [
    {
     "data": {
      "image/png": "[encoded data removed]",
      "text/plain": [
       "<Figure size 432x288 with 1 Axes>"
      ]
     },
     "metadata": {
      "filenames": {
       "image/png": "/mnt/c/Users/Seanj/JupyterFolder/BookOfCode/_build/jupyter_execute/Untitled_12_0.png"
      }
     },
     "output_type": "display_data"
    }
   ],
   "source": [
    "close.plot(alpha=0.5, style='-')\n",
    "close.resample('BA').mean().plot(style=':')\n",
    "close.asfreq('BA').plot(style='--');\n",
    "plt.legend(['input', 'resample', 'asfreq'],\n",
    "loc='upper left');"
   ]
  },
  {
   "cell_type": "code",
   "execution_count": null,
   "metadata": {},
   "outputs": [],
   "source": []
  }
 ],
 "metadata": {
  "kernelspec": {
   "display_name": "Python 3",
   "language": "python",
   "name": "python3"
  },
  "language_info": {
   "codemirror_mode": {
    "name": "ipython",
    "version": 3
   },
   "file_extension": ".py",
   "mimetype": "text/x-python",
   "name": "python",
   "nbconvert_exporter": "python",
   "pygments_lexer": "ipython3",
   "version": "3.8.3"
  }
 },
 "nbformat": 4,
 "nbformat_minor": 4
}