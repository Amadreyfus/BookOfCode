{
 "cells": [
  {
   "cell_type": "markdown",
   "metadata": {},
   "source": [
    "(R)=\n",
    "# R Programming Language\n",
    "\n",
    "[Link to R documentation](https://www.rdocumentation.org/)\n",
    "\n",
    "<br />\n",
    "\n",
    "**Quick References to Page Contents**\n",
    "\n",
    "- {ref}`verybasicsR`\n",
    "\n",
    "<br />\n",
    "\n",
    "(verybasicsR)=\n",
    "## Some of the Basics\n",
    "\n",
    "```rconsole\n",
    "install.packages('tidyverse')\n",
    "```"
   ]
  }
 ],
 "metadata": {
  "jupytext": {
   "text_representation": {
    "extension": ".md",
    "format_name": "myst",
    "format_version": "0.8",
    "jupytext_version": "1.4.1"
   }
  },
  "kernelspec": {
   "display_name": "Python 3",
   "language": "python",
   "name": "python3"
  },
  "language_info": {
   "codemirror_mode": {
    "name": "ipython",
    "version": 3
   },
   "file_extension": ".py",
   "mimetype": "text/x-python",
   "name": "python",
   "nbconvert_exporter": "python",
   "pygments_lexer": "ipython3",
   "version": "3.8.3"
  },
  "source_map": [
   12
  ]
 },
 "nbformat": 4,
 "nbformat_minor": 4
}