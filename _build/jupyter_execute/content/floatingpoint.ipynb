{
 "cells": [
  {
   "cell_type": "markdown",
   "metadata": {},
   "source": [
    "(floatingpoint)=\n",
    "# Floating Point Arithmetic\n",
    "\n",
    "This is a chapter dedicated to floating point arithmetic in an attempt to summarize and clarify the math and concepts involved.\n",
    "\n",
    "The main resource I have used for this is [What every Computer Scientist Should Know about Floating Point Arithmetic][FPA] \n",
    "which was written by David Goldberg.\n",
    "\n",
    "[FPA]: https://docs.oracle.com/cd/E19957-01/806-3568/ncg_goldberg.html\n",
    "\n",
    "(roundingerror)=\n",
    "## Rounding Error\n",
    "\n",
    "**Problem**\n",
    ": How to represent infintely many real numbers using a finite binary representation?\n",
    "\n",
    "This is going to leave gaps between the finite representations and require approximation.\n",
    "\n",
    "Most computations involving real numbers produce quantities that cannot truly be represented in a finite amount of bits.\n",
    "The canonical example of this is:\n",
    "\n",
    "$$ 0.1 = 0.00011001100110011... $$\n",
    "\n",
    "So a decimal number as simple as $0.1 = 10^{-1} = \\frac{1}{10}$ leads to an infinitely repeating sequence that must eventually be truncated\n",
    "in order to be computed. This has had some severe real-world implications involving a [missile defense system][missile].\n",
    "\n",
    "[missile]: http://www-users.math.umn.edu/~arnold/disasters/Patriot-dharan-skeel-siam.pdf\n",
    "\n",
    "\n",
    "(fpr)=\n",
    "### Floating Point Representation\n",
    "\n",
    "What does a floating point representation of a number consist of:\n",
    "\n",
    "$$ \\pm d_{0}.d_{1}d_{2}d_{3}...d_{p-1} \\times \\beta^{e} \\quad d \\in \\beta, \\, e \\in \\mathcal{Z} $$\n",
    "\n",
    "- A signed ($\\pm$) digit string of a certain length in a given base (radix) $\\beta$ called the **mantissa**, **significand**, or **coefficient**.\n",
    "  - The length of the significand is called the **precision** and is given the variable $p \\in \\mathcal{N}$\n",
    "  - Within the significand is the **radix point position (the location of the \"point/dot\")**, which in a normalized number is to the right of the most\n",
    "    significant digit (leftmost digit in significand)    \n",
    "    \n",
    "- An integer exponent $e \\in [e_{min}<0, e_{max}>0]$ applied to the base $\\beta$ which is often called the _characteristic_ or _scale_ and modifies the magnitude of the significand. \n",
    "\n",
    "```{important}\n",
    "Any number converted to floating point representation in base $\\beta$ will roughly have the form:\n",
    "$d_{0}.d_{1}d_{2}d_{3}...d_{p-1} \\times \\beta^{e}$\n",
    "and in this case the exponentiated base operates analogously to $10^{n}$ in decimal, shifting the point throughought\n",
    "the number, hence the \"floating point\"\n",
    "```\n",
    "\n",
    "Since there are $\\beta^{p}$ possible significands and $e_{max}-e_{min} +1$ exponents,  a floating point number can be expressed in:\n",
    "\n",
    "$$ \\log_{2}[e_{max}-e_{min} +1] + \\log_{2}[\\beta^{p}] + 1 \\; \\text{bits} $$\n",
    "\n",
    "**Normalized Number** is one in which the most significant digit is not zero. In the case of binary this means the left-most digit is 1. The IEEE convention\n",
    "for floating point numbers specifies that the point lies directly to the right of the most significant digit. This ensures unique representations of numbers.\n",
    "\n",
    "<br />\n",
    "\n",
    "Quick question. How many positive values can we represent with a normalized number that has $\\beta=2$, $p=3$, and $e \\in [-1, 2]$?  \n",
    "\n",
    "Since there are 4 possible combinations, ${1.00, 1.01, 1.10, 1.11}$ and **4 exponents = 4 shifts**, we have $4*4=16$ possible values.\n",
    "\n",
    "\n",
    "Here are those values on a number line:"
   ]
  },
  {
   "cell_type": "code",
   "execution_count": 1,
   "metadata": {
    "execution": {
     "iopub.execute_input": "2020-09-21T14:23:07.255101Z",
     "iopub.status.busy": "2020-09-21T14:23:07.254700Z",
     "iopub.status.idle": "2020-09-21T14:23:07.673015Z",
     "shell.execute_reply": "2020-09-21T14:23:07.672588Z"
    },
    "tags": [
     "hide-input"
    ]
   },
   "outputs": [
    {
     "data": {
      "text/plain": [
       "Text(0.0, 0.2, 'Binary Numbers on Real Number Line')"
      ]
     },
     "execution_count": 1,
     "metadata": {},
     "output_type": "execute_result"
    },
    {
     "data": {
      "image/png": "[encoded data removed]",
      "text/plain": [
       "<Figure size 576x432 with 1 Axes>"
      ]
     },
     "metadata": {
      "filenames": {
       "image/png": "/mnt/c/Users/Seanj/JupyterFolder/BookOfCode/_build/jupyter_execute/content/floatingpoint_1_1.png"
      },
      "needs_background": "light"
     },
     "output_type": "display_data"
    }
   ],
   "source": [
    "import numpy as np\n",
    "import matplotlib.pyplot as plt\n",
    "import matplotlib.ticker as ticker\n",
    "\n",
    "bin_list = ['1.00', '1.01', '1.10', '1.11']\n",
    "total_bin_list = []\n",
    "exp_list = [-1, 0, 1, 2]\n",
    "for e in exp_list:\n",
    "    for b in bin_list:\n",
    "        if e == 0:\n",
    "            total_bin_list.append(b)\n",
    "        else:\n",
    "            temp = list(b)\n",
    "            replace_value = temp[e+1]\n",
    "            temp[e+1] = '.'\n",
    "            temp[1] = replace_value\n",
    "            new = ''.join(temp)\n",
    "            total_bin_list.append(new)\n",
    "\n",
    "bin_values = []\n",
    "for i in total_bin_list:\n",
    "    curr_sum = 0.0\n",
    "    l, r = i.split('.')[0], i.split('.')[1]        \n",
    "    \n",
    "    for d in range(len(l)):\n",
    "        curr_sum += float(l[d])*2**(len(l)-d-1)\n",
    "    for d in range(len(r)):\n",
    "        curr_sum += float(r[d])*2**(-1*(d+1))       \n",
    "    \n",
    "    bin_values.append(curr_sum) \n",
    "\n",
    "def setup(ax):\n",
    "    ax.spines['right'].set_color('none')\n",
    "    ax.spines['left'].set_color('none')\n",
    "    ax.yaxis.set_major_locator(ticker.NullLocator())\n",
    "    ax.spines['top'].set_color('none')\n",
    "    ax.xaxis.set_ticks_position('bottom')\n",
    "    ax.tick_params(which='major', width=1.00)\n",
    "    ax.tick_params(which='major', length=5)\n",
    "    ax.tick_params(which='minor', width=0.75)\n",
    "    ax.tick_params(which='minor', length=2.5)\n",
    "    ax.set_xlim(0, 7)\n",
    "    ax.set_ylim(0, 1)\n",
    "    ax.patch.set_alpha(0.0)\n",
    "\n",
    "plt.figure(figsize=(8, 6))\n",
    "n = 8\n",
    "\n",
    "# Fixed Locator\n",
    "ax = plt.subplot(n, 1, 3)\n",
    "setup(ax)\n",
    "majors = [0,1,7]\n",
    "ax.xaxis.set_major_locator(ticker.FixedLocator(majors))\n",
    "minors = np.array(bin_values)\n",
    "ax.xaxis.set_minor_locator(ticker.FixedLocator(minors))\n",
    "ax.text(0.0, 0.2, \"Binary Numbers on Real Number Line\", fontsize=10,\n",
    "        transform=ax.transAxes)"
   ]
  }
 ],
 "metadata": {
  "jupytext": {
   "text_representation": {
    "extension": ".md",
    "format_name": "myst",
    "format_version": "0.8",
    "jupytext_version": "1.4.1"
   }
  },
  "kernelspec": {
   "display_name": "Python 3",
   "language": "python",
   "name": "python3"
  },
  "language_info": {
   "codemirror_mode": {
    "name": "ipython",
    "version": 3
   },
   "file_extension": ".py",
   "mimetype": "text/x-python",
   "name": "python",
   "nbconvert_exporter": "python",
   "pygments_lexer": "ipython3",
   "version": "3.8.3"
  },
  "source_map": [
   12,
   80
  ]
 },
 "nbformat": 4,
 "nbformat_minor": 4
}