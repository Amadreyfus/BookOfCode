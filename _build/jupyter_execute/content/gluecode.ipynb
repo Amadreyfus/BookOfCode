{
 "cells": [
  {
   "cell_type": "markdown",
   "metadata": {},
   "source": [
    "(glue_code)=\n",
    "# GlueCode"
   ]
  },
  {
   "cell_type": "code",
   "execution_count": 1,
   "metadata": {
    "execution": {
     "iopub.execute_input": "2020-09-13T16:44:46.336201Z",
     "iopub.status.busy": "2020-09-13T16:44:46.335675Z",
     "iopub.status.idle": "2020-09-13T16:44:46.846374Z",
     "shell.execute_reply": "2020-09-13T16:44:46.846024Z"
    }
   },
   "outputs": [],
   "source": [
    "from myst_nb import glue"
   ]
  },
  {
   "cell_type": "code",
   "execution_count": 2,
   "metadata": {
    "execution": {
     "iopub.execute_input": "2020-09-13T16:44:46.863532Z",
     "iopub.status.busy": "2020-09-13T16:44:46.858506Z",
     "iopub.status.idle": "2020-09-13T16:44:59.077639Z",
     "shell.execute_reply": "2020-09-13T16:44:59.077929Z"
    }
   },
   "outputs": [
    {
     "name": "stdout",
     "output_type": "stream",
     "text": [
      "The slowest run took 155.77 times longer than the fastest. This could mean that an intermediate result is being cached.\n",
      "40.7 µs ± 23.5 µs per loop (mean ± std. dev. of 100 runs, 3000 loops each)\n"
     ]
    }
   ],
   "source": [
    "c0 = []\n",
    "t_insert = %timeit -o -n3000 -r100 c0.insert(0, 'a')"
   ]
  },
  {
   "cell_type": "code",
   "execution_count": 3,
   "metadata": {
    "execution": {
     "iopub.execute_input": "2020-09-13T16:44:59.084664Z",
     "iopub.status.busy": "2020-09-13T16:44:59.084266Z",
     "iopub.status.idle": "2020-09-13T16:44:59.088079Z",
     "shell.execute_reply": "2020-09-13T16:44:59.087603Z"
    }
   },
   "outputs": [
    {
     "data": {
      "text/plain": [
       "<TimeitResult : 40.7 µs ± 23.5 µs per loop (mean ± std. dev. of 100 runs, 3000 loops each)>"
      ]
     },
     "metadata": {
      "scrapbook": {
       "mime_prefix": "",
       "name": "t_insert"
      }
     },
     "output_type": "display_data"
    }
   ],
   "source": [
    "glue('t_insert', t_insert)"
   ]
  },
  {
   "cell_type": "code",
   "execution_count": 4,
   "metadata": {
    "execution": {
     "iopub.execute_input": "2020-09-13T16:44:59.106313Z",
     "iopub.status.busy": "2020-09-13T16:44:59.100687Z",
     "iopub.status.idle": "2020-09-13T16:44:59.109165Z",
     "shell.execute_reply": "2020-09-13T16:44:59.108784Z"
    }
   },
   "outputs": [
    {
     "name": "stdout",
     "output_type": "stream",
     "text": [
      "48.2 ns ± 23.2 ns per loop (mean ± std. dev. of 100 runs, 3000 loops each)\n"
     ]
    }
   ],
   "source": [
    "c1 = []\n",
    "t_append = %timeit -o -n3000 -r100 c1.append('a')"
   ]
  },
  {
   "cell_type": "code",
   "execution_count": 5,
   "metadata": {
    "execution": {
     "iopub.execute_input": "2020-09-13T16:44:59.111842Z",
     "iopub.status.busy": "2020-09-13T16:44:59.111499Z",
     "iopub.status.idle": "2020-09-13T16:44:59.114561Z",
     "shell.execute_reply": "2020-09-13T16:44:59.114988Z"
    }
   },
   "outputs": [
    {
     "data": {
      "text/plain": [
       "<TimeitResult : 48.2 ns ± 23.2 ns per loop (mean ± std. dev. of 100 runs, 3000 loops each)>"
      ]
     },
     "metadata": {
      "scrapbook": {
       "mime_prefix": "",
       "name": "t_append"
      }
     },
     "output_type": "display_data"
    }
   ],
   "source": [
    "glue('t_append', t_append)"
   ]
  },
  {
   "cell_type": "code",
   "execution_count": 6,
   "metadata": {
    "execution": {
     "iopub.execute_input": "2020-09-13T16:44:59.131286Z",
     "iopub.status.busy": "2020-09-13T16:44:59.128938Z",
     "iopub.status.idle": "2020-09-13T16:44:59.134671Z",
     "shell.execute_reply": "2020-09-13T16:44:59.133628Z"
    }
   },
   "outputs": [
    {
     "name": "stdout",
     "output_type": "stream",
     "text": [
      "\n",
      "==> (insert time) / (append time) for 300,000 ops: ~ 845.5917268885116x\n"
     ]
    }
   ],
   "source": [
    "#Verify that both lists are the same\n",
    "assert all([a == b for a, b in zip(c0, c1)]), \"Answers differed?\"\n",
    "\n",
    "# Report the ratio of execution times\n",
    "print(f\"\\n==> (insert time) / (append time) for 300,000 ops: ~ {t_insert.average/t_append.average}x\")"
   ]
  },
  {
   "cell_type": "code",
   "execution_count": 7,
   "metadata": {
    "execution": {
     "iopub.execute_input": "2020-09-13T16:44:59.137549Z",
     "iopub.status.busy": "2020-09-13T16:44:59.137177Z",
     "iopub.status.idle": "2020-09-13T16:44:59.140634Z",
     "shell.execute_reply": "2020-09-13T16:44:59.140296Z"
    }
   },
   "outputs": [
    {
     "data": {
      "text/plain": [
       "845.5917268885116"
      ]
     },
     "metadata": {
      "scrapbook": {
       "mime_prefix": "",
       "name": "t_ratio"
      }
     },
     "output_type": "display_data"
    }
   ],
   "source": [
    "glue('t_ratio', (t_insert.average/t_append.average))"
   ]
  },
  {
   "cell_type": "code",
   "execution_count": 8,
   "metadata": {
    "execution": {
     "iopub.execute_input": "2020-09-13T16:44:59.143292Z",
     "iopub.status.busy": "2020-09-13T16:44:59.142942Z",
     "iopub.status.idle": "2020-09-13T16:44:59.320812Z",
     "shell.execute_reply": "2020-09-13T16:44:59.320432Z"
    }
   },
   "outputs": [],
   "source": [
    "import numpy as np\n",
    "import matplotlib.pyplot as plt\n",
    "plt.style.use('ggplot') # Displays graph in the style of R's ggplot"
   ]
  },
  {
   "cell_type": "code",
   "execution_count": 9,
   "metadata": {
    "execution": {
     "iopub.execute_input": "2020-09-13T16:44:59.324090Z",
     "iopub.status.busy": "2020-09-13T16:44:59.323720Z",
     "iopub.status.idle": "2020-09-13T16:44:59.476697Z",
     "shell.execute_reply": "2020-09-13T16:44:59.476302Z"
    }
   },
   "outputs": [
    {
     "data": {
      "image/png": "[encoded data removed]",
      "text/plain": [
       "<Figure size 432x288 with 1 Axes>"
      ]
     },
     "metadata": {
      "filenames": {
       "image/png": "/mnt/c/Users/Seanj/JupyterFolder/BookOfCode/_build/jupyter_execute/content/gluecode_9_0.png"
      }
     },
     "output_type": "display_data"
    }
   ],
   "source": [
    "x = np.linspace(0,10)\n",
    "y = np.sin(x)\n",
    "fig = plt.plot(x,y)"
   ]
  },
  {
   "cell_type": "code",
   "execution_count": 10,
   "metadata": {
    "execution": {
     "iopub.execute_input": "2020-09-13T16:44:59.479615Z",
     "iopub.status.busy": "2020-09-13T16:44:59.479235Z",
     "iopub.status.idle": "2020-09-13T16:44:59.482436Z",
     "shell.execute_reply": "2020-09-13T16:44:59.482140Z"
    }
   },
   "outputs": [
    {
     "data": {
      "text/plain": [
       "[<matplotlib.lines.Line2D at 0x7ff189a21790>]"
      ]
     },
     "metadata": {
      "scrapbook": {
       "mime_prefix": "application/papermill.record/",
       "name": "basic_sin"
      }
     },
     "output_type": "display_data"
    }
   ],
   "source": [
    "glue('basic_sin', fig, display=False)"
   ]
  },
  {
   "cell_type": "code",
   "execution_count": null,
   "metadata": {},
   "outputs": [],
   "source": []
  }
 ],
 "metadata": {
  "kernelspec": {
   "display_name": "Python 3",
   "language": "python",
   "name": "python3"
  },
  "language_info": {
   "codemirror_mode": {
    "name": "ipython",
    "version": 3
   },
   "file_extension": ".py",
   "mimetype": "text/x-python",
   "name": "python",
   "nbconvert_exporter": "python",
   "pygments_lexer": "ipython3",
   "version": "3.8.3"
  }
 },
 "nbformat": 4,
 "nbformat_minor": 4
}