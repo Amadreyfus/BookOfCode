{
 "cells": [
  {
   "cell_type": "markdown",
   "metadata": {},
   "source": [
    "(glue_code)=\n",
    "# GlueCode"
   ]
  },
  {
   "cell_type": "code",
   "execution_count": 1,
   "metadata": {
    "execution": {
     "iopub.execute_input": "2020-09-07T15:17:19.299061Z",
     "iopub.status.busy": "2020-09-07T15:17:19.298488Z",
     "iopub.status.idle": "2020-09-07T15:17:19.804888Z",
     "shell.execute_reply": "2020-09-07T15:17:19.804537Z"
    }
   },
   "outputs": [],
   "source": [
    "from myst_nb import glue"
   ]
  },
  {
   "cell_type": "code",
   "execution_count": 2,
   "metadata": {
    "execution": {
     "iopub.execute_input": "2020-09-07T15:17:19.822004Z",
     "iopub.status.busy": "2020-09-07T15:17:19.811820Z",
     "iopub.status.idle": "2020-09-07T15:17:32.025187Z",
     "shell.execute_reply": "2020-09-07T15:17:32.024752Z"
    }
   },
   "outputs": [
    {
     "name": "stdout",
     "output_type": "stream",
     "text": [
      "The slowest run took 177.07 times longer than the fastest. This could mean that an intermediate result is being cached.\n",
      "40.7 µs ± 23.5 µs per loop (mean ± std. dev. of 100 runs, 3000 loops each)\n"
     ]
    }
   ],
   "source": [
    "c0 = []\n",
    "t_insert = %timeit -o -n3000 -r100 c0.insert(0, 'a')"
   ]
  },
  {
   "cell_type": "code",
   "execution_count": 3,
   "metadata": {
    "execution": {
     "iopub.execute_input": "2020-09-07T15:17:32.031740Z",
     "iopub.status.busy": "2020-09-07T15:17:32.031382Z",
     "iopub.status.idle": "2020-09-07T15:17:32.034613Z",
     "shell.execute_reply": "2020-09-07T15:17:32.034901Z"
    }
   },
   "outputs": [
    {
     "data": {
      "text/plain": [
       "<TimeitResult : 40.7 µs ± 23.5 µs per loop (mean ± std. dev. of 100 runs, 3000 loops each)>"
      ]
     },
     "metadata": {
      "scrapbook": {
       "mime_prefix": "",
       "name": "t_insert"
      }
     },
     "output_type": "display_data"
    }
   ],
   "source": [
    "glue('t_insert', t_insert)"
   ]
  },
  {
   "cell_type": "code",
   "execution_count": 4,
   "metadata": {
    "execution": {
     "iopub.execute_input": "2020-09-07T15:17:32.052288Z",
     "iopub.status.busy": "2020-09-07T15:17:32.051890Z",
     "iopub.status.idle": "2020-09-07T15:17:32.054910Z",
     "shell.execute_reply": "2020-09-07T15:17:32.054515Z"
    }
   },
   "outputs": [
    {
     "name": "stdout",
     "output_type": "stream",
     "text": [
      "41.1 ns ± 10.9 ns per loop (mean ± std. dev. of 100 runs, 3000 loops each)\n"
     ]
    }
   ],
   "source": [
    "c1 = []\n",
    "t_append = %timeit -o -n3000 -r100 c1.append('a')"
   ]
  },
  {
   "cell_type": "code",
   "execution_count": 5,
   "metadata": {
    "execution": {
     "iopub.execute_input": "2020-09-07T15:17:32.057693Z",
     "iopub.status.busy": "2020-09-07T15:17:32.057305Z",
     "iopub.status.idle": "2020-09-07T15:17:32.060734Z",
     "shell.execute_reply": "2020-09-07T15:17:32.060405Z"
    }
   },
   "outputs": [
    {
     "data": {
      "text/plain": [
       "<TimeitResult : 41.1 ns ± 10.9 ns per loop (mean ± std. dev. of 100 runs, 3000 loops each)>"
      ]
     },
     "metadata": {
      "scrapbook": {
       "mime_prefix": "",
       "name": "t_append"
      }
     },
     "output_type": "display_data"
    }
   ],
   "source": [
    "glue('t_append', t_append)"
   ]
  },
  {
   "cell_type": "code",
   "execution_count": 6,
   "metadata": {
    "execution": {
     "iopub.execute_input": "2020-09-07T15:17:32.077396Z",
     "iopub.status.busy": "2020-09-07T15:17:32.077019Z",
     "iopub.status.idle": "2020-09-07T15:17:32.079911Z",
     "shell.execute_reply": "2020-09-07T15:17:32.079043Z"
    }
   },
   "outputs": [
    {
     "name": "stdout",
     "output_type": "stream",
     "text": [
      "\n",
      "==> (insert time) / (append time) for 300,000 ops: ~ 989.6944691348043x\n"
     ]
    }
   ],
   "source": [
    "#Verify that both lists are the same\n",
    "assert all([a == b for a, b in zip(c0, c1)]), \"Answers differed?\"\n",
    "\n",
    "# Report the ratio of execution times\n",
    "print(f\"\\n==> (insert time) / (append time) for 300,000 ops: ~ {t_insert.average/t_append.average}x\")"
   ]
  },
  {
   "cell_type": "code",
   "execution_count": 7,
   "metadata": {
    "execution": {
     "iopub.execute_input": "2020-09-07T15:17:32.082917Z",
     "iopub.status.busy": "2020-09-07T15:17:32.082527Z",
     "iopub.status.idle": "2020-09-07T15:17:32.085979Z",
     "shell.execute_reply": "2020-09-07T15:17:32.085603Z"
    }
   },
   "outputs": [
    {
     "data": {
      "text/plain": [
       "989.6944691348043"
      ]
     },
     "metadata": {
      "scrapbook": {
       "mime_prefix": "",
       "name": "t_ratio"
      }
     },
     "output_type": "display_data"
    }
   ],
   "source": [
    "glue('t_ratio', (t_insert.average/t_append.average))"
   ]
  }
 ],
 "metadata": {
  "kernelspec": {
   "display_name": "Python 3",
   "language": "python",
   "name": "python3"
  },
  "language_info": {
   "codemirror_mode": {
    "name": "ipython",
    "version": 3
   },
   "file_extension": ".py",
   "mimetype": "text/x-python",
   "name": "python",
   "nbconvert_exporter": "python",
   "pygments_lexer": "ipython3",
   "version": "3.8.3"
  }
 },
 "nbformat": 4,
 "nbformat_minor": 4
}