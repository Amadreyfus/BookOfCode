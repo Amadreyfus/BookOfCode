{
 "cells": [
  {
   "cell_type": "markdown",
   "metadata": {},
   "source": [
    "(commonpandas)=\n",
    "\n",
    "# Common Pandas Operations\n",
    "\n",
    "These are just some general coding fragments that I feel are used frequently enough to warrant annotating, \n",
    "but also infrequently enough that they are not generally immediately recallable.  \n",
    "\n",
    "They are roughly organized around what specific pandas object or operation is invoked.\n",
    "\n",
    "\n",
    "(pdindex)=\n",
    "## Index \n",
    "\n",
    "```python3\n",
    "df.reindex()      #Pass a new index to this to create a new index for datafrane\n",
    "df.reset_index()  #Just resetting the index \n",
    "df.set_index()    #Can set index based on columns (useful for multiindexing)\n",
    "df.reindex_like() #Uses index of another dataframe\n",
    "```\n",
    "\n",
    "(pdvalues)=\n",
    "## Values in a DF or Series\n",
    "\n",
    "```python3\n",
    "df.column.value_counts() #Returns a Series with values and their associated counts of a column\n",
    "```\n",
    "\n",
    "\n",
    "(pdmerging)=\n",
    "## Merging DFs, Series, columns\n",
    "\n",
    "```python3\n",
    "df = pd.concat([df, column], axis=1) #Adds a new column to the df\n",
    "```"
   ]
  }
 ],
 "metadata": {
  "jupytext": {
   "text_representation": {
    "extension": ".md",
    "format_name": "myst",
    "format_version": "0.8",
    "jupytext_version": "1.4.1"
   }
  },
  "kernelspec": {
   "display_name": "Python 3",
   "language": "python",
   "name": "python3"
  },
  "language_info": {
   "codemirror_mode": {
    "name": "ipython",
    "version": 3
   },
   "file_extension": ".py",
   "mimetype": "text/x-python",
   "name": "python",
   "nbconvert_exporter": "python",
   "pygments_lexer": "ipython3",
   "version": "3.8.6"
  },
  "source_map": [
   12
  ]
 },
 "nbformat": 4,
 "nbformat_minor": 4
}