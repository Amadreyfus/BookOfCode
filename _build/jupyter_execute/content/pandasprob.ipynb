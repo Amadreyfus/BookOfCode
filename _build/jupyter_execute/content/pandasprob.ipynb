{
 "cells": [
  {
   "cell_type": "markdown",
   "metadata": {},
   "source": [
    "(pandasprob)=\n",
    "# A Catalogue of Problems and Workarounds for Pandas\n",
    "\n",
    "This is going to be a rather disorganized section, but it is an attempt to catalogue sticking points I encounter working with pandas\n",
    "and their solutions. Hopefully, it will serve as a valuable resource if I encounter similar problems in the future."
   ]
  }
 ],
 "metadata": {
  "jupytext": {
   "text_representation": {
    "extension": ".md",
    "format_name": "myst",
    "format_version": "0.8",
    "jupytext_version": "1.4.1"
   }
  },
  "kernelspec": {
   "display_name": "Python 3",
   "language": "python",
   "name": "python3"
  },
  "language_info": {
   "codemirror_mode": {
    "name": "ipython",
    "version": 3
   },
   "file_extension": ".py",
   "mimetype": "text/x-python",
   "name": "python",
   "nbconvert_exporter": "python",
   "pygments_lexer": "ipython3",
   "version": "3.8.3"
  },
  "source_map": [
   12
  ]
 },
 "nbformat": 4,
 "nbformat_minor": 4
}