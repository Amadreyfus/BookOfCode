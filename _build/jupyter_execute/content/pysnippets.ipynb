{
 "cells": [
  {
   "cell_type": "markdown",
   "metadata": {},
   "source": [
    "(snippets)=\n",
    "# Python Coding Snippets\n",
    "\n",
    "**Quick References to Page Content**\n",
    "\n",
    "- {ref}`Basic Python <basic_python>`\n",
    "  -  {ref}`List Operations <list_ops>`\n",
    "  -  {ref}`Random Package <random_package>`\n",
    "\n",
    "(basic_python)=\n",
    "## Basic Python\n",
    "\n",
    "(list_ops)= \n",
    "### List Operations\n",
    "\n",
    "Creating a list of consecutive integers"
   ]
  },
  {
   "cell_type": "code",
   "execution_count": 1,
   "metadata": {
    "execution": {
     "iopub.execute_input": "2020-09-05T17:57:55.674085Z",
     "iopub.status.busy": "2020-09-05T17:57:55.673556Z",
     "iopub.status.idle": "2020-09-05T17:57:55.676581Z",
     "shell.execute_reply": "2020-09-05T17:57:55.675763Z"
    },
    "tags": [
     "hide-output"
    ]
   },
   "outputs": [
    {
     "data": {
      "text/plain": [
       "[0, 1, 2, 3, 4, 5, 6, 7, 8, 9]"
      ]
     },
     "execution_count": 1,
     "metadata": {},
     "output_type": "execute_result"
    }
   ],
   "source": [
    "[i for i in range(10)]"
   ]
  },
  {
   "cell_type": "markdown",
   "metadata": {},
   "source": [
    "Merging a list with its reverse"
   ]
  },
  {
   "cell_type": "code",
   "execution_count": 2,
   "metadata": {
    "execution": {
     "iopub.execute_input": "2020-09-05T17:57:55.680232Z",
     "iopub.status.busy": "2020-09-05T17:57:55.679871Z",
     "iopub.status.idle": "2020-09-05T17:57:55.682726Z",
     "shell.execute_reply": "2020-09-05T17:57:55.681738Z"
    }
   },
   "outputs": [
    {
     "name": "stdout",
     "output_type": "stream",
     "text": [
      "[('S', 'l'), ('e', 'l'), ('a', 'i'), ('n', 'h'), ('C', 'a'), ('a', 'C'), ('h', 'n'), ('i', 'a'), ('l', 'e'), ('l', 'S')]\n"
     ]
    }
   ],
   "source": [
    "name = 'SeanCahill'\n",
    "merge = [(f,b) for f,b in zip(name, name[::-1])]\n",
    "print(merge)"
   ]
  },
  {
   "cell_type": "markdown",
   "metadata": {},
   "source": [
    "(random_package)=\n",
    "### Random Package\n",
    "\n",
    "(basic_perm)=\n",
    "#### Basic permutations on a list"
   ]
  },
  {
   "cell_type": "code",
   "execution_count": 3,
   "metadata": {
    "execution": {
     "iopub.execute_input": "2020-09-05T17:57:55.686367Z",
     "iopub.status.busy": "2020-09-05T17:57:55.686007Z",
     "iopub.status.idle": "2020-09-05T17:57:55.688691Z",
     "shell.execute_reply": "2020-09-05T17:57:55.687801Z"
    }
   },
   "outputs": [
    {
     "name": "stdout",
     "output_type": "stream",
     "text": [
      "[7, 9, 0, 6, 3, 8, 5, 4, 1, 2]\n"
     ]
    }
   ],
   "source": [
    "from random import shuffle\n",
    "g = [i for i in range(10)]\n",
    "shuffle(g)\n",
    "print(g)"
   ]
  }
 ],
 "metadata": {
  "jupytext": {
   "text_representation": {
    "extension": ".md",
    "format_name": "myst",
    "format_version": "0.8",
    "jupytext_version": "1.4.1"
   }
  },
  "kernelspec": {
   "display_name": "Python 3",
   "language": "python",
   "name": "python3"
  },
  "language_info": {
   "codemirror_mode": {
    "name": "ipython",
    "version": 3
   },
   "file_extension": ".py",
   "mimetype": "text/x-python",
   "name": "python",
   "nbconvert_exporter": "python",
   "pygments_lexer": "ipython3",
   "version": "3.8.3"
  },
  "source_map": [
   12,
   31,
   34,
   38,
   42,
   50
  ]
 },
 "nbformat": 4,
 "nbformat_minor": 4
}