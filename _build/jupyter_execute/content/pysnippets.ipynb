{
 "cells": [
  {
   "cell_type": "markdown",
   "metadata": {},
   "source": [
    "(snippets)=\n",
    "# Python Coding Snippets\n",
    "\n",
    "**Quick References to Page Content**\n",
    "\n",
    "- {ref}`Basic Python <basic_python>`\n",
    "  -  {ref}`List Operations <list_ops>`\n",
    "  -  {ref}`Random Package <random_package>`\n",
    "- {ref}`Slick Sorting and Other Tricks <sorting>` \n",
    "\n",
    "(basic_python)=\n",
    "## Basic Python\n",
    "\n",
    "(list_ops)= \n",
    "### List Operations\n",
    "\n",
    "<br />\n",
    "\n",
    "**Quick Ref**\n",
    "- {ref}`List of Consecutive Integers <list_consec>`\n",
    "- {ref}`Merging a List with its Reverse <list_merge>`\n",
    "- {ref}`Performance of Append vs Insert <list_perform>`\n",
    "\n",
    "(list_consec)=\n",
    "#### Creating a list of consecutive integers"
   ]
  },
  {
   "cell_type": "code",
   "execution_count": 1,
   "metadata": {
    "execution": {
     "iopub.execute_input": "2020-09-07T15:58:26.055817Z",
     "iopub.status.busy": "2020-09-07T15:58:26.055262Z",
     "iopub.status.idle": "2020-09-07T15:58:26.058511Z",
     "shell.execute_reply": "2020-09-07T15:58:26.057560Z"
    },
    "tags": [
     "hide-output"
    ]
   },
   "outputs": [
    {
     "data": {
      "text/plain": [
       "[0, 1, 2, 3, 4, 5, 6, 7, 8, 9]"
      ]
     },
     "execution_count": 1,
     "metadata": {},
     "output_type": "execute_result"
    }
   ],
   "source": [
    "list(range(10))\n",
    "[i for i in range(10)]"
   ]
  },
  {
   "cell_type": "markdown",
   "metadata": {},
   "source": [
    "(list_merge)=\n",
    "#### Merging a list with its reverse"
   ]
  },
  {
   "cell_type": "code",
   "execution_count": 2,
   "metadata": {
    "execution": {
     "iopub.execute_input": "2020-09-07T15:58:26.061731Z",
     "iopub.status.busy": "2020-09-07T15:58:26.061359Z",
     "iopub.status.idle": "2020-09-07T15:58:26.064276Z",
     "shell.execute_reply": "2020-09-07T15:58:26.063190Z"
    }
   },
   "outputs": [
    {
     "name": "stdout",
     "output_type": "stream",
     "text": [
      "[('S', 'l'), ('e', 'l'), ('a', 'i'), ('n', 'h'), ('C', 'a'), ('a', 'C'), ('h', 'n'), ('i', 'a'), ('l', 'e'), ('l', 'S')]\n"
     ]
    }
   ],
   "source": [
    "name = 'SeanCahill'\n",
    "merge = [(f,b) for f,b in zip(name, name[::-1])]\n",
    "print(merge)"
   ]
  },
  {
   "cell_type": "markdown",
   "metadata": {},
   "source": [
    "(list_perform)=\n",
    "#### Checking the Performance of Insert Vs Append. \n",
    "\n",
    "**Appending is generally a much faster operation than arbitrary insertion.** \n",
    "\n",
    "````{margin}\n",
    "```{note}\n",
    "Although inserting at the `[-1]`\n",
    "is of a comparable runtime.\n",
    "```\n",
    "````"
   ]
  },
  {
   "cell_type": "code",
   "execution_count": 3,
   "metadata": {
    "execution": {
     "iopub.execute_input": "2020-09-07T15:58:26.086513Z",
     "iopub.status.busy": "2020-09-07T15:58:26.081420Z",
     "iopub.status.idle": "2020-09-07T15:58:27.439845Z",
     "shell.execute_reply": "2020-09-07T15:58:27.439466Z"
    }
   },
   "outputs": [
    {
     "name": "stdout",
     "output_type": "stream",
     "text": [
      "The slowest run took 138.95 times longer than the fastest. This could mean that an intermediate result is being cached.\n",
      "13.7 µs ± 7.87 µs per loop (mean ± std. dev. of 100 runs, 1000 loops each)\n"
     ]
    }
   ],
   "source": [
    "c0 = []\n",
    "t_insert = %timeit -o -n1000 -r100 c0.insert(0, 'a')"
   ]
  },
  {
   "cell_type": "code",
   "execution_count": 4,
   "metadata": {
    "execution": {
     "iopub.execute_input": "2020-09-07T15:58:27.448284Z",
     "iopub.status.busy": "2020-09-07T15:58:27.446891Z",
     "iopub.status.idle": "2020-09-07T15:58:27.451238Z",
     "shell.execute_reply": "2020-09-07T15:58:27.450849Z"
    }
   },
   "outputs": [
    {
     "name": "stdout",
     "output_type": "stream",
     "text": [
      "45.1 ns ± 23.3 ns per loop (mean ± std. dev. of 100 runs, 1000 loops each)\n"
     ]
    }
   ],
   "source": [
    "c1 = []\n",
    "t_append = %timeit -o -n1000 -r100 c1.append('a')"
   ]
  },
  {
   "cell_type": "markdown",
   "metadata": {},
   "source": [
    "<br />\n",
    "Let us see the the ratio of execution times for these two cell blocks:  \n",
    "\n",
    "<br />"
   ]
  },
  {
   "cell_type": "code",
   "execution_count": 5,
   "metadata": {
    "execution": {
     "iopub.execute_input": "2020-09-07T15:58:27.458839Z",
     "iopub.status.busy": "2020-09-07T15:58:27.458459Z",
     "iopub.status.idle": "2020-09-07T15:58:27.461210Z",
     "shell.execute_reply": "2020-09-07T15:58:27.460222Z"
    }
   },
   "outputs": [
    {
     "name": "stdout",
     "output_type": "stream",
     "text": [
      "==> (insert time)/(append time) for 1000 operations: ~303.14668837778464x\n"
     ]
    }
   ],
   "source": [
    "#Asserting that both lists are equivalent\n",
    "assert all([a == b for a, b in zip(c0, c1)]), \"Answers differed?\"\n",
    "\n",
    "print(f'==> (insert time)/(append time) for 1000 operations: ~{t_insert.average/t_append.average}x')"
   ]
  },
  {
   "cell_type": "markdown",
   "metadata": {},
   "source": [
    "<br />\n",
    "Here is the same thing with more loops to demonstrate scaling. That is\n",
    "as the number of ops grows, so will execution time.\n",
    "\n",
    "<br />\n",
    "\n",
    "```python\n",
    "#Same experiment as above, but triple the ops\n",
    "c0 = []\n",
    "t_insert = %timeit -o -n3000 -r100 c0.insert(0, 'a')\n",
    "```\n",
    "\n",
    "```{glue:} t_insert\n",
    "```\n",
    "\n",
    "```python\n",
    "# Append the same 100,000 values at the end of the list\n",
    "c1 = []\n",
    "t_append = %timeit -o -n3000 -r100 c1.append('a')\n",
    "```\n",
    "\n",
    "```{glue:} t_append\n",
    "```\n",
    "\n",
    "```python\n",
    "# Verify that the outputs of the above are the same\n",
    "assert all([a == b for a, b in zip(c0, c1)]), \"Answers differed?\"\n",
    "\n",
    "# Report the ratio of execution times\n",
    "print(f\"\\n==> (insert time) / (append time) for 3,000 ops: ~ {t_insert.average/t_append.average}x\")\n",
    "```\n",
    "\n",
    "(insert time) / (append time) for 3,000 ops: ~ {glue:text}`t_ratio`x\n",
    "\n",
    "\n",
    "\n",
    "\n",
    "\n",
    "\n",
    "(random_package)=\n",
    "### Random Package\n",
    "\n",
    "(basic_perm)=\n",
    "#### Basic permutations on a list"
   ]
  },
  {
   "cell_type": "code",
   "execution_count": 6,
   "metadata": {
    "execution": {
     "iopub.execute_input": "2020-09-07T15:58:27.464394Z",
     "iopub.status.busy": "2020-09-07T15:58:27.464020Z",
     "iopub.status.idle": "2020-09-07T15:58:27.467517Z",
     "shell.execute_reply": "2020-09-07T15:58:27.466183Z"
    }
   },
   "outputs": [
    {
     "name": "stdout",
     "output_type": "stream",
     "text": [
      "[0, 3, 9, 2, 7, 8, 5, 6, 1, 4]\n"
     ]
    }
   ],
   "source": [
    "from random import shuffle\n",
    "g = [i for i in range(10)]\n",
    "shuffle(g)\n",
    "print(g)"
   ]
  },
  {
   "cell_type": "markdown",
   "metadata": {},
   "source": [
    "(sorting)=\n",
    "### Slick Tricks Involving Sorting and Parsing\n",
    "\n",
    "(sort_dic_by_key)=\n",
    "#### Sorting a Dictionary by a Specific Key\n",
    "\n",
    "```{code-block} ipython\n",
    "data = [{'first':'Guido', 'last':'Van Rossum', 'YOB':1956},\n",
    "        {'first':'Grace', 'last':'Hopper',     'YOB':1906},\n",
    "        {'first':'Alan',  'last':'Turing',     'YOB':1912}]\n",
    "\n",
    "sorted(data, key=lambda x: x['YOB'])\n",
    "```"
   ]
  }
 ],
 "metadata": {
  "jupytext": {
   "text_representation": {
    "extension": ".md",
    "format_name": "myst",
    "format_version": "0.8",
    "jupytext_version": "1.4.1"
   }
  },
  "kernelspec": {
   "display_name": "Python 3",
   "language": "python",
   "name": "python3"
  },
  "language_info": {
   "codemirror_mode": {
    "name": "ipython",
    "version": 3
   },
   "file_extension": ".py",
   "mimetype": "text/x-python",
   "name": "python",
   "nbconvert_exporter": "python",
   "pygments_lexer": "ipython3",
   "version": "3.8.3"
  },
  "source_map": [
   12,
   40,
   44,
   49,
   53,
   67,
   71,
   74,
   80,
   85,
   131,
   136
  ]
 },
 "nbformat": 4,
 "nbformat_minor": 4
}