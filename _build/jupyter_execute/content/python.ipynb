{
 "cells": [
  {
   "cell_type": "markdown",
   "metadata": {},
   "source": [
    "(python)=\n",
    "# Python 3\n",
    "\n",
    "[Link to Python3 documentation](https://docs.python.org/3/)\n",
    "\n",
    "<br />\n",
    "\n",
    "**Quick References to Page Contents**\n",
    "\n",
    "- {ref}`verybasics`\n",
    "- {ref}`Primitive Types <primitive>`\n",
    "  - {ref}`Type Checking Operations <type_check>`\n",
    "  - {ref}`Basic Mathematical Operations <basic_math>`\n",
    "  - {ref}`Strings <strings>`\n",
    "  - {ref}`floats`\n",
    "- {ref}`Collections <collections>`\n",
    "  - {ref}`Lists <lists>`\n",
    "  - {ref}`Tuples <tuples>`\n",
    "  - {ref}`Dictionaries`\n",
    "    - {ref}`Default Dictionary <default_dict>`\n",
    "- {ref}`Control Flow <control_flow>` \n",
    "  - {ref}`Assertions <assertions>`\n",
    "  - {ref}`Lambda Functions <lambda>`\n",
    "  - {ref}`Loops <loops>`\n",
    "  - {ref}`Some Useful Basic Iterators <useful_iterators>`\n",
    "  - {ref}`Itertools <itertools>` \n",
    "- {ref}`Data Science Tools and Packages <data_sci>`\n",
    "  - {ref}`Pandas <pandas>`\n",
    "  - {ref}`Numpy <numpy>`\n",
    "  - {ref}`MatPlotLib <matplotlib>`\n",
    "- {ref}`Working with Math in Python <mathstuff>`\n",
    "  \n",
    "\n",
    "\n",
    "<br />\n",
    "\n",
    "(verybasics)=\n",
    "## Some Very Basic and Useful Commands\n",
    "\n",
    "### Printing the Current Python Version of Kernel\n",
    "```python\n",
    "import sys\n",
    "print(sys.version) #Displays current version of python kernel\n",
    "```\n",
    "\n",
    "                    \n",
    "\n",
    "(primitive)=\n",
    "## Primitive Types in Python\n",
    "\n",
    "| Type        | Example        | Description                                                  |\n",
    "|-------------|----------------|--------------------------------------------------------------|\n",
    "| ``int``     | ``x = 1``      | integers (i.e., whole numbers)                               |\n",
    "| ``float``   | ``x = 1.0``    | floating-point numbers (i.e., real numbers)                  |\n",
    "| ``complex`` | ``x = 1 + 2j`` | Complex numbers (i.e., numbers with real and imaginary part) |\n",
    "| ``bool``    | ``x = True``   | Boolean: True/False values                                   |\n",
    "| ``str``     | ``x = 'abc'``  | String: characters or text                                   |\n",
    "| ``NoneType``| ``x = None``   | Special object indicating nulls                              |\n",
    "\n",
    "(type_check)=\n",
    "### Type Checking Operations\n",
    "\n",
    "`````{list-table}\n",
    ":header-rows: 1\n",
    "\n",
    "* - Syntax\n",
    "  - Description\n",
    "  \n",
    "* - ```python\n",
    "    type(<object>)\n",
    "    ```\n",
    "  - Returns type of the object. Useful syntax below:    \n",
    "    ```python\n",
    "    type([]) is list\n",
    "    ```\n",
    "\n",
    "* - ```python\n",
    "    isinstance(<object>, <type>)\n",
    "    ```    \n",
    "  - Returns boolean value corresponding to truth of the statement\n",
    "    \n",
    "* - ```python\n",
    "    <object> is None, <object> is not None\n",
    "    ```    \n",
    "  - This is the preferred idiom for checking if an object is `None` type\n",
    "        \n",
    "`````  \n",
    "\n",
    "\n",
    "<br />\n",
    "\n",
    "(basic_math)=\n",
    "### Basic Mathematical Operations\n",
    "\n",
    "These are sometimes called the 'natural operators'\n",
    "\n",
    "| Operator     | Name           | Description                                            |\n",
    "|--------------|----------------|--------------------------------------------------------|\n",
    "| ``a + b``    | Addition       | Sum of ``a`` and ``b``                                 |\n",
    "| ``a - b``    | Subtraction    | Difference of ``a`` and ``b``                          |\n",
    "| ``a * b``    | Multiplication | Product of ``a`` and ``b``                             |\n",
    "| ``a / b``    | True division  | Quotient of ``a`` and ``b``                            |\n",
    "| ``a // b``   | Floor division | Quotient of ``a`` and ``b``, removing any remainder    |\n",
    "| ``a % b``    | Modulus        | Integer remainder after division of ``a`` by ``b``     |\n",
    "| ``a ** b``   | Exponentiation | ``a`` raised to the power of ``b``                     |\n",
    "| ``-a``       | Negation       | The negative of ``a``                                  |\n",
    "| ``+a``       | Unary plus     | ``a`` unchanged                                        |\n",
    "\n",
    "(strings)=\n",
    "### Strings\n",
    "\n",
    "#### Getting a String with All Possible Punctuation Characters"
   ]
  },
  {
   "cell_type": "code",
   "execution_count": 1,
   "metadata": {},
   "outputs": [
    {
     "name": "stdout",
     "output_type": "stream",
     "text": [
      "!\"#$%&'()*+,-./:;<=>?@[\\]^_`{|}~\n"
     ]
    }
   ],
   "source": [
    "import string\n",
    "print(string.punctuation)"
   ]
  },
  {
   "cell_type": "markdown",
   "metadata": {},
   "source": [
    "(floats)=\n",
    "### Floats\n",
    "\n",
    "The default IEEE 754 format for floats in Python is double precision (64 bits) which allocates:\n",
    "\n",
    " - sign : 1 bit\n",
    " - significand : 53 bits\n",
    " - exponents : 11 bits\n",
    " \n",
    "into a tuple that looks something like:  $(\\pm, [\\![s]\\!]_b, x)$\n",
    "\n",
    "\\\n",
    "To inspect a floating point number in python use ` x.hex() ` which returns a string representation of floats encoding."
   ]
  },
  {
   "cell_type": "code",
   "execution_count": 2,
   "metadata": {},
   "outputs": [
    {
     "name": "stdout",
     "output_type": "stream",
     "text": [
      "v = 0.0 ==> v.hex() == '0x0.0p+0'\n",
      "v = 1.0 ==> v.hex() == '0x1.0000000000000p+0'\n",
      "v = 16.0625 ==> v.hex() == '0x1.0100000000000p+4'\n",
      "v = -0.1 ==> v.hex() == '-0x1.999999999999ap-4'\n"
     ]
    }
   ],
   "source": [
    "def print_fp_hex(v):\n",
    "    assert type(v) is float\n",
    "    print(\"v = {} ==> v.hex() == '{}'\".format(v, v.hex()))\n",
    "    \n",
    "print_fp_hex(0.0)\n",
    "print_fp_hex(1.0)\n",
    "print_fp_hex(16.0625)\n",
    "print_fp_hex(-0.1)"
   ]
  },
  {
   "cell_type": "markdown",
   "metadata": {},
   "source": [
    "(collections)=\n",
    "## Collections\n",
    "\n",
    "(lists)=\n",
    "### Lists\n",
    "\n",
    " - A list is similar to arrays in other languages. It is a sequence of values contained within square brackets and separated by a comma: `[1, 2, 'a', ...]`\n",
    "\n",
    " - The list data structure facilitates fast random access and appends, but slow arbitrary insertions and searches. \n",
    " \n",
    " - A list can contain heterogenous elements\n",
    " \n",
    " - A list is mutable\n",
    " \n",
    "#### Constructing Lists"
   ]
  },
  {
   "cell_type": "code",
   "execution_count": 3,
   "metadata": {},
   "outputs": [],
   "source": [
    "list1 = [] # empty list\n",
    "list2 = list() # empty list\n",
    "list3 = list('string') # creates a list from individual letters, str has __iter__ attribute"
   ]
  },
  {
   "cell_type": "markdown",
   "metadata": {},
   "source": [
    "#### List Comprehensions\n",
    "\n",
    "List comprehensions provide a unique way to generate list from iterable objects and some examples of this syntax are:\n",
    "\n",
    "``` python\n",
    "new_list = [expression for i in iterable] # applies the expression to each item in the iterable to generate new list   \n",
    "\n",
    "upper = [x.upper() for x in 'string']\n",
    "```\n",
    "\n",
    "Here is the output of the second expression."
   ]
  },
  {
   "cell_type": "code",
   "execution_count": 4,
   "metadata": {},
   "outputs": [
    {
     "name": "stdout",
     "output_type": "stream",
     "text": [
      "['S', 'T', 'R', 'I', 'N', 'G']\n"
     ]
    }
   ],
   "source": [
    "upper = [x.upper() for x in 'string']\n",
    "print(upper)"
   ]
  },
  {
   "cell_type": "markdown",
   "metadata": {},
   "source": [
    "#### Zipper Iterations\n",
    "\n",
    "`zip(list1, list2, ...) ` creates tuples of corresponding elements in various collections\n",
    "\n",
    "(add_list)=\n",
    "#### Adding Elements to a List\n",
    "\n",
    "```{list-table}\n",
    ":header-rows: 1\n",
    "\n",
    "* - Sytnax\n",
    "  - Description\n",
    "  \n",
    "* - `list.append(x)`\n",
    "  - Adds element to the end of a list\n",
    "  \n",
    "* - `list.extend([x, y, z]) ` or ` list1 + list2`\n",
    "  - Concatenates a current list with another\n",
    "  \n",
    "* - `list.insert(i, elem)`\n",
    "  - inserts the new element at ` list[i] ` and shifts every element at [i,+) to the right one place\n",
    "\n",
    "```\n",
    "\n",
    "\n",
    "\n",
    "\n",
    "\n",
    "(tuples)=\n",
    "### Tuples\n",
    "\n",
    "A **Tuple** is a read-only \"immutable\" fixed-length sequence of values"
   ]
  },
  {
   "cell_type": "code",
   "execution_count": 5,
   "metadata": {},
   "outputs": [
    {
     "name": "stdout",
     "output_type": "stream",
     "text": [
      "element at index i in tup is: 1\n",
      "element at index i in tup is: a\n",
      "element at index i in tup is: None\n"
     ]
    }
   ],
   "source": [
    "tup = (1,'a', None)\n",
    "for i in range(len(tup)):\n",
    "    print(f'element at index i in tup is: {tup[i]}')"
   ]
  },
  {
   "cell_type": "markdown",
   "metadata": {},
   "source": [
    "**Immutability** means that you cannot modify the object. Once set, it's size and values are permanently fixed. So,\n",
    "in order to \"change\" the object, you must create a new one incorporating the old one.\n",
    "\n",
    "(dictionaries)=\n",
    "### Dictionaries\n",
    "\n",
    "A dictionary is map of unique keys to values. Like set elements, keys must be unique.\n",
    "\n",
    "(default_dict)=\n",
    "#### Default Dictionary from Collections\n",
    "\n",
    "[Documentation for Default Dictionary](https://docs.python.org/3/library/collections.html?highlight=defaultdict#collections.defaultdict)\n",
    "\n",
    "```python\n",
    "from collections import defaultdict\n",
    "d = defaultdict(int) #Argument can be list, dict, set and initializes with empty or 0.\n",
    "```\n",
    "\n",
    "(control_flow)=\n",
    "## Control Flow\n",
    "\n",
    "(assertions)= \n",
    "### Assertions\n",
    "\n",
    "Assertions provide a way of checking if variables have certain values or objects meet certain conditions which\n",
    "minimizes the risk of an error in the code. General form:\n",
    "\n",
    "\n",
    "```python\n",
    "assert <boolean condition>, <error string>\n",
    "```\n",
    "\n",
    "Specific examples:\n",
    "\n",
    "```python \n",
    "assert n >= 0, f'n must be non-negative and is {n} instead'\n",
    "\n",
    "assert isinstance(a, str) and isinstance(b, str), \\\n",
    "       f'One of a:{type(a)} or b:{type(b)} is not a string'\n",
    "```\n",
    "\n",
    "(lambda)=\n",
    "### Lambda Functions (Anonymous Functions)\n",
    "\n",
    "$\\lambda\\,$ Functions are functions that are specified by the keyword `lambda` and do not need to be \n",
    "named. They have the general form\n",
    "\n",
    "```python\n",
    "lambda x: <expression(x)>\n",
    "```\n",
    "where the variables on the left side of the colon are considered \"bound\" variables.  \n",
    "\n",
    "Here are some concrete examples of lambda functions:\n",
    "\n",
    "```python\n",
    "lambda x: x + 1\n",
    "(lambda x: x + 1)(2) # Applies lambda function to the argmuent (2)\n",
    "add_one = lambda x: x + 1\n",
    "full_name = lambda first, second: f'Full name: {first.title()} {second.title()}'\n",
    "```\n",
    "````{margin}\n",
    "```{caution}\n",
    "Because under the hood the lambda function has no name, it can be harder to debug since the \n",
    "traceback will not contain as much information\n",
    "```\n",
    "````\n",
    "\n",
    "````{important}\n",
    "Lambda functions can prove very useful by providing functionaly in normally tricky spots. A \n",
    "good example is working as a key to sort a dictionary by specific values. A more fleshed out example can \n",
    "be found {ref}`here <sort_dic_by_key>`.\n",
    "\n",
    "```python\n",
    "sorted(data, key= lambda x: x['key_value'])\n",
    "```\n",
    "````\n",
    "\n",
    "(loops)=\n",
    "### For Loops and While Loops\n",
    "\n",
    "Easy for loop example"
   ]
  },
  {
   "cell_type": "code",
   "execution_count": 6,
   "metadata": {},
   "outputs": [
    {
     "name": "stdout",
     "output_type": "stream",
     "text": [
      "0 1 2 3 4 "
     ]
    }
   ],
   "source": [
    "for i in range(5):\n",
    "    print(i, end= ' ') #prints all on same line"
   ]
  },
  {
   "cell_type": "markdown",
   "metadata": {},
   "source": [
    "This code takes advantage of the __iter__ atrribute of range. There is a special syntax called **\\*i syntax** that allows \n",
    "you to convert an iterator into an argument tuple"
   ]
  },
  {
   "cell_type": "code",
   "execution_count": 7,
   "metadata": {},
   "outputs": [
    {
     "name": "stdout",
     "output_type": "stream",
     "text": [
      "range(0, 5)\n",
      "0 1 2 3 4\n",
      "(0, 0) (1, 1) (2, 2) (3, 3) (4, 4)\n"
     ]
    }
   ],
   "source": [
    "print(range(5))\n",
    "print(*range(5))\n",
    "print(*enumerate(range(5)))"
   ]
  },
  {
   "cell_type": "markdown",
   "metadata": {},
   "source": [
    "(iterators)=\n",
    "### Iterators\n",
    "\n",
    "An iterator is a special type of object that produces a sequence of values. It is an object that contains a \n",
    "countable number of values which can be iterated upon (traversed through one by one). Technically, it is an \n",
    "object which implements an iterator protocol which consists of the methods `__iter__()` and `__next__()`\n",
    "\n",
    "Here is an example that illustrates this property:"
   ]
  },
  {
   "cell_type": "code",
   "execution_count": 8,
   "metadata": {},
   "outputs": [
    {
     "name": "stdout",
     "output_type": "stream",
     "text": [
      "a\n",
      "b\n",
      "c\n"
     ]
    }
   ],
   "source": [
    "mytuple = ('a','b','c','d')\n",
    "myiter = iter(mytuple)\n",
    "print(next(myiter))\n",
    "print(next(myiter))\n",
    "print(next(myiter))"
   ]
  },
  {
   "cell_type": "markdown",
   "metadata": {},
   "source": [
    "````{margin}\n",
    "```{note}\n",
    "An interable is any object that can return an iterator: iter(object)\n",
    "```\n",
    "````\n",
    "\n",
    "(useful_iterators)=\n",
    "#### Some useful iterators \n",
    "\n",
    "`enumerate(x)` produces the elements of x along with running count starting at zero"
   ]
  },
  {
   "cell_type": "code",
   "execution_count": 9,
   "metadata": {},
   "outputs": [
    {
     "name": "stdout",
     "output_type": "stream",
     "text": [
      "0: S\n",
      "1: e\n",
      "2: a\n",
      "3: n\n"
     ]
    }
   ],
   "source": [
    "for i, l in enumerate('Sean'):\n",
    "    print(f'{i}: {l}')"
   ]
  },
  {
   "cell_type": "markdown",
   "metadata": {},
   "source": [
    "`zip()` produces tuples of elements taken from its input iterators"
   ]
  },
  {
   "cell_type": "code",
   "execution_count": 10,
   "metadata": {},
   "outputs": [
    {
     "name": "stdout",
     "output_type": "stream",
     "text": [
      "0 => a\n",
      "1 => b\n",
      "2 => c\n"
     ]
    }
   ],
   "source": [
    "for a, b in zip(range(3), ['a', 'b', 'c']):\n",
    "    print(a, \"=>\", b)"
   ]
  },
  {
   "cell_type": "markdown",
   "metadata": {},
   "source": [
    "`map()` an iterator that first applies a function to a given value"
   ]
  },
  {
   "cell_type": "code",
   "execution_count": 11,
   "metadata": {},
   "outputs": [
    {
     "name": "stdout",
     "output_type": "stream",
     "text": [
      "0 1 4 9 16 25 36 49 64 81 "
     ]
    }
   ],
   "source": [
    "# find the first 10 square numbers\n",
    "square = lambda x: x ** 2\n",
    "for val in map(square, range(10)):\n",
    "    print(val, end=' ')"
   ]
  },
  {
   "cell_type": "markdown",
   "metadata": {},
   "source": [
    "`filter()` an iterator that only yields values for which a given predicate function executes to `True`"
   ]
  },
  {
   "cell_type": "code",
   "execution_count": 12,
   "metadata": {},
   "outputs": [
    {
     "name": "stdout",
     "output_type": "stream",
     "text": [
      "True False \n",
      "\n",
      "0 2 4 6 8 "
     ]
    }
   ],
   "source": [
    "# find values up to 10 for which x % 2 is zero\n",
    "is_even = lambda x: x % 2 == 0\n",
    "print(is_even(4), is_even(7), \"\\n\")\n",
    "\n",
    "for val in filter(is_even, range(10)):\n",
    "    print(val, end=' ')"
   ]
  },
  {
   "cell_type": "markdown",
   "metadata": {},
   "source": [
    "(itertools)=\n",
    "### Itertools\n",
    "\n",
    "The **`Itertools`** module implements a number of iterator building blocks that standardize a core set of fast, memory-efficient tools\n",
    "that are useful by themselves, or in combination\n",
    "\n",
    "[Link to `itertools` documentation][itertools_link]\n",
    "\n",
    "Example using combinations(), a combinatoric iterator:"
   ]
  },
  {
   "cell_type": "code",
   "execution_count": 13,
   "metadata": {},
   "outputs": [
    {
     "name": "stdout",
     "output_type": "stream",
     "text": [
      "('emu', 'zebra', 'cat')\n",
      "('emu', 'zebra', 'dog')\n",
      "('emu', 'cat', 'dog')\n",
      "('zebra', 'cat', 'dog')\n"
     ]
    }
   ],
   "source": [
    "zoo = {'cat', 'dog', 'emu', 'zebra'}  # a set of animals\n",
    "\n",
    "from itertools import combinations    # Try also: `permutations`\n",
    "for x in combinations(zoo, 3):      \n",
    "    print(x)"
   ]
  },
  {
   "cell_type": "markdown",
   "metadata": {},
   "source": [
    "[itertools_link]: https://docs.python.org/3/library/itertools.html\n",
    "\n",
    "(data_sci)=\n",
    "## Data Science Tools\n",
    "\n",
    "(numpy)=\n",
    "### Numpy\n",
    "\n",
    "(pandas)=\n",
    "### Pandas\n",
    "\n",
    "(matplotlib)=\n",
    "#### Matplotlib\n",
    "\n",
    "**Useful Links**\n",
    "\n",
    "- [Why MatPlotLib can be Confusing](https://realpython.com/python-matplotlib-guide/#why-can-matplotlib-be-confusing)\n",
    "- [Matplotlib gallery](https://matplotlib.org/gallery.html)"
   ]
  },
  {
   "cell_type": "code",
   "execution_count": 14,
   "metadata": {},
   "outputs": [
    {
     "data": {
      "text/plain": [
       "[<matplotlib.lines.Line2D at 0x7f7351ada700>]"
      ]
     },
     "execution_count": 14,
     "metadata": {},
     "output_type": "execute_result"
    },
    {
     "data": {
      "image/png": "[encoded data removed]",
      "text/plain": [
       "<Figure size 432x288 with 1 Axes>"
      ]
     },
     "metadata": {
      "filenames": {
       "image/png": "/mnt/c/Users/Seanj/JupyterBooks/BookOfCode/_build/jupyter_execute/content/python_27_1.png"
      }
     },
     "output_type": "display_data"
    }
   ],
   "source": [
    "%matplotlib inline\n",
    "import numpy as np\n",
    "import matplotlib.pyplot as plt\n",
    "plt.style.use('ggplot') # Displays graph in the style of R's ggplot\n",
    "\n",
    "x = np.linspace(0,10)\n",
    "y = np.sin(x)\n",
    "plt.plot(x,y)"
   ]
  },
  {
   "cell_type": "markdown",
   "metadata": {},
   "source": [
    "(mathstuff)=\n",
    "## Working with Math in Python\n",
    "\n",
    "(ppmath)=\n",
    "### Pretty Printing Math Notation\n",
    "```python\n",
    "# Code for pretty-printing math notation\n",
    "from IPython.display import display, Math, Latex, Markdown\n",
    "\n",
    "def display_math(str_latex):\n",
    "    display(Markdown('${}$'.format(str_latex)))\n",
    "    \n",
    "# Demo:\n",
    "display_math(r'x \\in \\mathcal{S} \\implies y \\in \\mathcal{T}')\n",
    "```\n",
    "(drawdiagramswithvectors)=\n",
    "### Code for Drawing Diagrams with Vectors\n",
    "```python\n",
    " \n",
    "\n",
    "# Code for drawing diagrams involving vectors\n",
    "import matplotlib.pyplot as plt\n",
    "%matplotlib inline\n",
    "\n",
    "DEF_FIGLEN = 4\n",
    "DEF_FIGSIZE = (DEF_FIGLEN, DEF_FIGLEN)\n",
    "\n",
    "def figure(figsize=DEF_FIGSIZE):\n",
    "    return plt.figure(figsize=figsize)\n",
    "\n",
    "def multiplot_figsize(plot_dims, base_figsize=DEF_FIGSIZE):\n",
    "    return tuple([p*x for p, x in zip(plot_dims, base_figsize)])\n",
    "\n",
    "def subplots(plot_dims, base_figsize=DEF_FIGSIZE, sharex='col', sharey='row', **kw_args):\n",
    "    assert len(plot_dims) == 2, \"Must define a 2-D plot grid.\"\n",
    "    multiplot_size = multiplot_figsize(plot_dims, base_figsize)\n",
    "    _, axes = plt.subplots(plot_dims[0], plot_dims[1],\n",
    "                           figsize=multiplot_size[::-1],\n",
    "                           sharex=sharex, sharey=sharey,\n",
    "                           **kw_args)\n",
    "    return axes\n",
    "\n",
    "def new_blank_plot(ax=None, xlim=(-5, 5), ylim=(-5, 5), axis_color='gray', title=''):\n",
    "    if ax is None:\n",
    "        ax = plt.gca()\n",
    "    else:\n",
    "        plt.sca(ax)\n",
    "    ax.axis('equal')\n",
    "    if xlim is not None: ax.set_xlim(xlim[0], xlim[1])\n",
    "    if ylim is not None: ax.set_ylim(ylim[0], ylim[1])\n",
    "    if axis_color is not None:\n",
    "        ax.axhline(color=axis_color)\n",
    "        ax.axvline(color=axis_color)\n",
    "    if title is not None:\n",
    "        ax.set_title(title)\n",
    "    return ax\n",
    "\n",
    "def draw_point2d(p, ax=None, marker='o', markersize=5, **kw_args):\n",
    "    assert len(p) == 2, \"Point must be 2-D.\"\n",
    "    if ax is None: ax = plt.gca()\n",
    "    ax.plot(p[0], p[1], marker=marker, markersize=markersize,\n",
    "            **kw_args);\n",
    "\n",
    "def draw_label2d(p, label, coords=False, ax=None, fontsize=14,\n",
    "                 dp=(0.0, 0.1), horizontalalignment='center', verticalalignment='bottom',\n",
    "                 **kw_args):\n",
    "    assert len(p) == 2, \"Position must be 2-D.\"\n",
    "    if ax is None: ax = plt.gca()\n",
    "    text = '{}'.format(label)\n",
    "    if coords:\n",
    "        text += ' = ({}, {})'.format(p[0], p[1])\n",
    "    ax.text(p[0]+dp[0], p[1]+dp[1], text,\n",
    "            fontsize=fontsize,\n",
    "            horizontalalignment=horizontalalignment,\n",
    "            verticalalignment=verticalalignment,\n",
    "            **kw_args)\n",
    "\n",
    "def draw_line2d(start, end, ax=None, width=1.0, color='black', alpha=1.0, **kw_args):\n",
    "    assert len(start) == 2, \"`start` must be a 2-D point.\"\n",
    "    assert len(end) == 2, \"`end` must be a 2-D point.\"\n",
    "    if ax is None:\n",
    "        ax = plt.gca()\n",
    "    x = [start[0], end[0]]\n",
    "    y = [start[1], end[1]]\n",
    "    ax.plot(x, y, linewidth=width, color=color, alpha=alpha, **kw_args);\n",
    "\n",
    "def draw_vector2d(v, ax=None, origin=(0, 0), width=0.15, color='black', alpha=1.0,\n",
    "                  **kw_args):\n",
    "    assert len(v) == 2, \"Input vector must be two-dimensional.\"\n",
    "    if ax is None:\n",
    "        ax = plt.gca()\n",
    "    ax.arrow(origin[0], origin[1], v[0], v[1],\n",
    "             width=width,\n",
    "             facecolor=color,\n",
    "             edgecolor='white',\n",
    "             alpha=alpha,\n",
    "             length_includes_head=True,\n",
    "             **kw_args);\n",
    "    \n",
    "def draw_vector2d_components(v, y_offset_sign=1, vis_offset=0.05, comp_width=1.5, **kw_args):\n",
    "    assert len(v) == 2, \"Vector `v` must be 2-D.\"\n",
    "    y_offset = y_offset_sign * vis_offset\n",
    "    draw_line2d((0, y_offset), (v[0], y_offset), width=comp_width, **kw_args)\n",
    "    draw_line2d((v[0], y_offset), v, width=comp_width, **kw_args)\n",
    "    \n",
    "def draw_angle(theta_start, theta_end, radius=1, center=(0, 0), ax=None, **kw_args):\n",
    "    from matplotlib.patches import Arc\n",
    "    if ax is None: ax = plt.gca()\n",
    "    arc = Arc(center, center[0]+2*radius, center[1]+2*radius,\n",
    "              theta1=theta_start, theta2=theta_end,\n",
    "              **kw_args)\n",
    "    ax.add_patch(arc)\n",
    "            \n",
    "def draw_angle_label(theta_start, theta_end, label=None, radius=1, center=(0, 0), ax=None, **kw_args):\n",
    "    from math import cos, sin, pi\n",
    "    if ax is None: ax = plt.gca()\n",
    "    if label is not None:\n",
    "        theta_label = (theta_start + theta_end) / 2 / 360 * 2.0 * pi\n",
    "        p = (center[0] + radius*cos(theta_label),\n",
    "             center[1] + radius*sin(theta_label))\n",
    "        ax.text(p[0], p[1], label, **kw_args)\n",
    "\n",
    "print(\"Ready!\")\n",
    "```"
   ]
  }
 ],
 "metadata": {
  "jupytext": {
   "text_representation": {
    "extension": ".md",
    "format_name": "myst",
    "format_version": "0.8",
    "jupytext_version": "1.4.1"
   }
  },
  "kernelspec": {
   "display_name": "Python 3",
   "language": "python",
   "name": "python3"
  },
  "language_info": {
   "codemirror_mode": {
    "name": "ipython",
    "version": 3
   },
   "file_extension": ".py",
   "mimetype": "text/x-python",
   "name": "python",
   "nbconvert_exporter": "python",
   "pygments_lexer": "ipython3",
   "version": "3.8.6"
  },
  "source_map": [
   12,
   127,
   130,
   146,
   155,
   173,
   178,
   191,
   194,
   229,
   234,
   318,
   321,
   326,
   330,
   341,
   347,
   360,
   363,
   367,
   370,
   374,
   379,
   383,
   390,
   401,
   407,
   430,
   439
  ]
 },
 "nbformat": 4,
 "nbformat_minor": 4
}