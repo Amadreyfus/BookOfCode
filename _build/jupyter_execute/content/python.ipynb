{
 "cells": [
  {
   "cell_type": "markdown",
   "metadata": {},
   "source": [
    "(python)=\n",
    "# Python 3\n",
    "\n",
    "<br />\n",
    "\n",
    "**Quick References to Page Contents**\n",
    "\n",
    "- {ref}`Primitive Types <primitive>`\n",
    "  - {ref}`Type Checking Operations <type_check>`\n",
    "  - {ref}`Basic Mathematical Operations <basic_math>`\n",
    "  - {ref}`Strings <strings>`\n",
    "- {ref}`Collections <collections>`\n",
    "  - {ref}`Lists <lists>`\n",
    "  - {ref}`Tuples <tuples>`\n",
    "  - {ref}`Dictionaries`\n",
    "- {ref}`magic`  \n",
    "\n",
    "\n",
    "<br />\n",
    "\n",
    "(primitive)=\n",
    "## Primitive Types in Python\n",
    "\n",
    "| Type        | Example        | Description                                                  |\n",
    "|-------------|----------------|--------------------------------------------------------------|\n",
    "| ``int``     | ``x = 1``      | integers (i.e., whole numbers)                               |\n",
    "| ``float``   | ``x = 1.0``    | floating-point numbers (i.e., real numbers)                  |\n",
    "| ``complex`` | ``x = 1 + 2j`` | Complex numbers (i.e., numbers with real and imaginary part) |\n",
    "| ``bool``    | ``x = True``   | Boolean: True/False values                                   |\n",
    "| ``str``     | ``x = 'abc'``  | String: characters or text                                   |\n",
    "| ``NoneType``| ``x = None``   | Special object indicating nulls                              |\n",
    "\n",
    "(type_check)=\n",
    "### Type Checking Operations\n",
    "\n",
    "`````{list-table}\n",
    ":header-rows: 1\n",
    "\n",
    "* - Syntax\n",
    "  - Description\n",
    "  \n",
    "* - ```python\n",
    "    type(<object>)\n",
    "    ```\n",
    "  - Returns type of the object. Useful syntax below:    \n",
    "    ```python\n",
    "    type([]) is list\n",
    "    ```\n",
    "\n",
    "* - ```python\n",
    "    isinstance(<object>, <type>)\n",
    "    ```    \n",
    "  - Returns boolean value corresponding to truth of the statement\n",
    "    \n",
    "* - ```python\n",
    "    <object> is None, <object> is not None\n",
    "    ```    \n",
    "  - This is the preferred idiom for checking if an object is `None` type\n",
    "        \n",
    "`````  \n",
    "\n",
    "\n",
    "<br />\n",
    "\n",
    "(basic_math)=\n",
    "### Basic Mathematical Operations\n",
    "\n",
    "These are sometimes called the 'natural operators'\n",
    "\n",
    "| Operator     | Name           | Description                                            |\n",
    "|--------------|----------------|--------------------------------------------------------|\n",
    "| ``a + b``    | Addition       | Sum of ``a`` and ``b``                                 |\n",
    "| ``a - b``    | Subtraction    | Difference of ``a`` and ``b``                          |\n",
    "| ``a * b``    | Multiplication | Product of ``a`` and ``b``                             |\n",
    "| ``a / b``    | True division  | Quotient of ``a`` and ``b``                            |\n",
    "| ``a // b``   | Floor division | Quotient of ``a`` and ``b``, removing any remainder    |\n",
    "| ``a % b``    | Modulus        | Integer remainder after division of ``a`` by ``b``     |\n",
    "| ``a ** b``   | Exponentiation | ``a`` raised to the power of ``b``                     |\n",
    "| ``-a``       | Negation       | The negative of ``a``                                  |\n",
    "| ``+a``       | Unary plus     | ``a`` unchanged                                        |\n",
    "\n",
    "(strings)=\n",
    "### Strings\n",
    "\n",
    "(collections)=\n",
    "## Collections\n",
    "\n",
    "(lists)=\n",
    "### Lists\n",
    "\n",
    " - A list is similar to arrays in other languages. It is a sequence of values contained within square brackets and separated by a comma: `[1, 2, 'a', ...]`\n",
    "\n",
    " - The list data structure facilitates fast random access and appends, but slow arbitrary insertions and searches. \n",
    " \n",
    " - A list can contain heterogenous elements\n",
    " \n",
    " - A list is mutable\n",
    " \n",
    "#### Constructing Lists"
   ]
  },
  {
   "cell_type": "code",
   "execution_count": 1,
   "metadata": {
    "execution": {
     "iopub.execute_input": "2020-09-05T18:38:17.305589Z",
     "iopub.status.busy": "2020-09-05T18:38:17.305076Z",
     "iopub.status.idle": "2020-09-05T18:38:17.307197Z",
     "shell.execute_reply": "2020-09-05T18:38:17.306868Z"
    }
   },
   "outputs": [],
   "source": [
    "list1 = [] # empty list\n",
    "list2 = list() # empty list\n",
    "list3 = list('string') # creates a list from individual letters, str has __iter__ attribute"
   ]
  },
  {
   "cell_type": "markdown",
   "metadata": {},
   "source": [
    "#### List Comprehensions\n",
    "\n",
    "List comprehensions provide a unique way to generate list from iterable objects and some examples of this syntax are:\n",
    "\n",
    "`[<expression> for <item> in <iterable>]`    \n",
    "`upper = [x.upper() for x in 'string']`\n",
    "\n",
    "Here is the output of the second expression."
   ]
  },
  {
   "cell_type": "code",
   "execution_count": 2,
   "metadata": {
    "execution": {
     "iopub.execute_input": "2020-09-05T18:38:17.309829Z",
     "iopub.status.busy": "2020-09-05T18:38:17.309478Z",
     "iopub.status.idle": "2020-09-05T18:38:17.312387Z",
     "shell.execute_reply": "2020-09-05T18:38:17.311458Z"
    }
   },
   "outputs": [
    {
     "name": "stdout",
     "output_type": "stream",
     "text": [
      "['S', 'T', 'R', 'I', 'N', 'G']\n"
     ]
    }
   ],
   "source": [
    "upper = [x.upper() for x in 'string']\n",
    "print(upper)"
   ]
  },
  {
   "cell_type": "markdown",
   "metadata": {},
   "source": [
    "#### Zipper Iterations\n",
    "\n",
    "`zip(list1, list2, ...) ` creates tuples of corresponding elements in various collections\n",
    "\n",
    "(add_list)=\n",
    "#### Adding Elements to a List\n",
    "\n",
    "```{list-table}\n",
    ":header-rows: 1\n",
    "\n",
    "* - Sytnax\n",
    "  - Description\n",
    "  \n",
    "* - `list.append(x)`\n",
    "  - Adds element to the end of a list\n",
    "  \n",
    "* - `list.extend([x, y, z]) ` or ` list1 + list2`\n",
    "  - Concatenates a current list with another\n",
    "  \n",
    "* - `list.insert(i, elem)`\n",
    "  - inserts the new element at ` list[i] ` and shifts every element at [i,+) to the right one place\n",
    "\n",
    "```\n",
    "\n",
    "\n",
    "\n",
    "\n",
    "\n",
    "(tuples)=\n",
    "### Tuples\n",
    "\n",
    "A **Tuple** is a read-only \"immutable\" fixed-length sequence of values"
   ]
  },
  {
   "cell_type": "code",
   "execution_count": 3,
   "metadata": {
    "execution": {
     "iopub.execute_input": "2020-09-05T18:38:17.315344Z",
     "iopub.status.busy": "2020-09-05T18:38:17.314990Z",
     "iopub.status.idle": "2020-09-05T18:38:17.318228Z",
     "shell.execute_reply": "2020-09-05T18:38:17.317908Z"
    }
   },
   "outputs": [
    {
     "name": "stdout",
     "output_type": "stream",
     "text": [
      "element at index i in tup is: 1\n",
      "element at index i in tup is: a\n",
      "element at index i in tup is: None\n"
     ]
    }
   ],
   "source": [
    "tup = (1,'a', None)\n",
    "for i in range(len(tup)):\n",
    "    print(f'element at index i in tup is: {tup[i]}')"
   ]
  },
  {
   "cell_type": "markdown",
   "metadata": {},
   "source": [
    "**Immutability** means that you cannot modify the object. Once set, it's size and values are permanently fixed. So,\n",
    "in order to \"change\" the object, you must create a new one incorporating the old one.\n",
    "\n",
    "(dictionaries)=\n",
    "### Dictionaries\n",
    "\n",
    "(magic)=\n",
    "## Magic Commands in Ipython\n",
    "\n",
    "- {ref}`bookmark`\n",
    "\n",
    "(bookmark)=\n",
    "### Bookmarks\n",
    "\n",
    "Creates a bookmark, which is essentially a reference to a path location\n",
    "\n",
    "`%bookmark <name>       ` Creates a bookmark to current directory  \n",
    "`%bookmark <name> <dir> ` Creates a bookmark to chosen directory  \n",
    "`%bookmark -l           ` Lists all bookmarks in the workspace  \n",
    "`%bookmark -d <name>    ` Removes a specific bookmark  \n",
    "`%bookmark -r           ` Removes all bookmarks"
   ]
  }
 ],
 "metadata": {
  "jupytext": {
   "text_representation": {
    "extension": ".md",
    "format_name": "myst",
    "format_version": "0.8",
    "jupytext_version": "1.4.1"
   }
  },
  "kernelspec": {
   "display_name": "Python 3",
   "language": "python",
   "name": "python3"
  },
  "language_info": {
   "codemirror_mode": {
    "name": "ipython",
    "version": 3
   },
   "file_extension": ".py",
   "mimetype": "text/x-python",
   "name": "python",
   "nbconvert_exporter": "python",
   "pygments_lexer": "ipython3",
   "version": "3.8.3"
  },
  "source_map": [
   12,
   114,
   119,
   129,
   132,
   167,
   172
  ]
 },
 "nbformat": 4,
 "nbformat_minor": 4
}