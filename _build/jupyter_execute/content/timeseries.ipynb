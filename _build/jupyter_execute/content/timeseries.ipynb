{
 "cells": [
  {
   "cell_type": "markdown",
   "metadata": {},
   "source": [
    "(time)=\n",
    "# Time Series / Dates"
   ]
  },
  {
   "cell_type": "markdown",
   "metadata": {},
   "source": [
    "Key ways of thinking about time in python:\n",
    "\n",
    "- **Timestamp**: An instant in time\n",
    "- **Period**: Some established interval of time, usually a month, year. Special case of interval\n",
    "- **Interval**: An arbitrary interval of time.\n",
    "- **Experimental / Elapsed time**: Represents elapsed time from some chosen start point."
   ]
  },
  {
   "cell_type": "markdown",
   "metadata": {},
   "source": [
    "Important Native-Python Packages concering date:\n",
    "\n",
    "- [`datetime`](https://docs.python.org/3/library/datetime.html)\n",
    "- [`dateutil`](https://dateutil.readthedocs.io/en/stable/)"
   ]
  },
  {
   "cell_type": "code",
   "execution_count": 1,
   "metadata": {
    "execution": {
     "iopub.execute_input": "2020-10-05T13:53:22.781375Z",
     "iopub.status.busy": "2020-10-05T13:53:22.780854Z",
     "iopub.status.idle": "2020-10-05T13:53:22.783774Z",
     "shell.execute_reply": "2020-10-05T13:53:22.784058Z"
    }
   },
   "outputs": [
    {
     "name": "stdout",
     "output_type": "stream",
     "text": [
      "datetime.now() : 2020-10-05 09:53:22.779887\n",
      "datetime.now().year : 2020\n"
     ]
    }
   ],
   "source": [
    "from datetime import datetime\n",
    "print(f'datetime.now() : {datetime.now()}')\n",
    "print(f'datetime.now().year : {datetime.now().year}')"
   ]
  },
  {
   "cell_type": "code",
   "execution_count": 2,
   "metadata": {
    "execution": {
     "iopub.execute_input": "2020-10-05T13:53:22.790911Z",
     "iopub.status.busy": "2020-10-05T13:53:22.790524Z",
     "iopub.status.idle": "2020-10-05T13:53:22.793765Z",
     "shell.execute_reply": "2020-10-05T13:53:22.793404Z"
    }
   },
   "outputs": [
    {
     "data": {
      "text/plain": [
       "datetime.datetime(2015, 7, 4, 0, 0)"
      ]
     },
     "execution_count": 2,
     "metadata": {},
     "output_type": "execute_result"
    }
   ],
   "source": [
    "from dateutil import parser\n",
    "date = parser.parse(\"4th of July, 2015\")\n",
    "date"
   ]
  },
  {
   "cell_type": "markdown",
   "metadata": {},
   "source": [
    "Types available in the datetime module:\n",
    "\n",
    "- `date` -   Date object (only concerned with calendar type dates)\n",
    "- `time` -   Time object concerned with time of a date\n",
    "- `datetime` -  Combo of both\n",
    "- `timedelta` - Differences between to datetime objects\n",
    "- `tzinfo` - Time zone things"
   ]
  },
  {
   "cell_type": "markdown",
   "metadata": {},
   "source": [
    "(timestr)=\n",
    "## Strings and strftime"
   ]
  },
  {
   "cell_type": "markdown",
   "metadata": {},
   "source": [
    "Once you have a datetime object or some date ready to be converted into one, it is easy to convert and format into a string"
   ]
  },
  {
   "cell_type": "code",
   "execution_count": 3,
   "metadata": {
    "execution": {
     "iopub.execute_input": "2020-10-05T13:53:22.796479Z",
     "iopub.status.busy": "2020-10-05T13:53:22.796124Z",
     "iopub.status.idle": "2020-10-05T13:53:22.798895Z",
     "shell.execute_reply": "2020-10-05T13:53:22.798555Z"
    }
   },
   "outputs": [
    {
     "name": "stdout",
     "output_type": "stream",
     "text": [
      "2020-10-05 09:53:22.795268\n"
     ]
    }
   ],
   "source": [
    "stamp = datetime.now()\n",
    "print(str(stamp))"
   ]
  },
  {
   "cell_type": "code",
   "execution_count": 4,
   "metadata": {
    "execution": {
     "iopub.execute_input": "2020-10-05T13:53:22.801877Z",
     "iopub.status.busy": "2020-10-05T13:53:22.801411Z",
     "iopub.status.idle": "2020-10-05T13:53:22.804646Z",
     "shell.execute_reply": "2020-10-05T13:53:22.804347Z"
    }
   },
   "outputs": [
    {
     "data": {
      "text/plain": [
       "'2020-10'"
      ]
     },
     "execution_count": 4,
     "metadata": {},
     "output_type": "execute_result"
    }
   ],
   "source": [
    "stamp.strftime('%Y-%m')"
   ]
  },
  {
   "cell_type": "markdown",
   "metadata": {},
   "source": [
    "(strf)=\n",
    "### Strftime\n",
    "\n",
    "**strftime** allows you to select certain parts of the datetime object with using the special formatting codes. Here is a list of common ones: (ISO C89 compatible)\n",
    "\n",
    "- `%Y` : 4 digit year\n",
    "- `%y` : 2 digit year\n",
    "- `%m` : 2 digit month\n",
    "- `%d` : 2 digit day\n",
    "- `%H` : military time hour\n",
    "- `%h` : 12 hour [01,12]\n",
    "- `%M` : 2 digit minute [00,59]\n",
    "- `%S` : seconds [00,61]\n",
    "- `%w` : weekday as an integer\n",
    "- `%F` : shortcut for `%Y-%m-%d`\n",
    "- `%D` : shortcut for `%d/%m/%y`\n"
   ]
  },
  {
   "cell_type": "markdown",
   "metadata": {},
   "source": [
    "Here is a list of useful locale-specific **strftime** codes:\n",
    "\n",
    "- `%a` : abbreviated day name\n",
    "- `%A` : Full-length day name\n",
    "- `%b` : abbreviated month name\n",
    "- `%B` : Full month name\n",
    "- `%c` : full date-time (Tue 01 May 2012 04:20:57 PM’)\n",
    "- `%p` : locale equivalent of a.m./p.m.\n",
    "- `%x` : locale-appropriate formatted date (%c)\n",
    "- `%X` : locale-appropriate time"
   ]
  },
  {
   "cell_type": "markdown",
   "metadata": {},
   "source": [
    "(datetime64)=\n",
    "## Numpy [datetime64](https://numpy.org/doc/stable/reference/arrays.datetime.html)"
   ]
  },
  {
   "cell_type": "markdown",
   "metadata": {},
   "source": [
    "Like most native python objects and and processes - problems with efficiency and speed arise when dealing with large quantities and loops. \n",
    "\n",
    "The dypte **datetime64** was developed in order to address these problems."
   ]
  },
  {
   "cell_type": "markdown",
   "metadata": {},
   "source": [
    "The `datetime64` datatype encodes dates as 64 bit integers (which allows dates to be represented compactly)"
   ]
  },
  {
   "cell_type": "code",
   "execution_count": 5,
   "metadata": {
    "execution": {
     "iopub.execute_input": "2020-10-05T13:53:22.807417Z",
     "iopub.status.busy": "2020-10-05T13:53:22.807055Z",
     "iopub.status.idle": "2020-10-05T13:53:22.947847Z",
     "shell.execute_reply": "2020-10-05T13:53:22.948155Z"
    }
   },
   "outputs": [
    {
     "data": {
      "text/plain": [
       "array('2020-07-04', dtype='datetime64[D]')"
      ]
     },
     "execution_count": 5,
     "metadata": {},
     "output_type": "execute_result"
    }
   ],
   "source": [
    "import numpy as np\n",
    "date = np.array('2020-07-04', dtype='datetime64[D]')\n",
    "date"
   ]
  },
  {
   "cell_type": "markdown",
   "metadata": {},
   "source": [
    "Dates in this format allow for vectorized operations. \n",
    "````{margin}\n",
    "```{note}\n",
    "Recall that alot of the speed attainable in `numpy` is due to the uniformity \n",
    "of dtype in numpy arrays\n",
    "```\n",
    "````"
   ]
  },
  {
   "cell_type": "code",
   "execution_count": 6,
   "metadata": {
    "execution": {
     "iopub.execute_input": "2020-10-05T13:53:22.951793Z",
     "iopub.status.busy": "2020-10-05T13:53:22.951236Z",
     "iopub.status.idle": "2020-10-05T13:53:22.954466Z",
     "shell.execute_reply": "2020-10-05T13:53:22.954165Z"
    }
   },
   "outputs": [
    {
     "data": {
      "text/plain": [
       "array(['2020-07-04', '2020-07-05', '2020-07-06', '2020-07-07',\n",
       "       '2020-07-08', '2020-07-09'], dtype='datetime64[D]')"
      ]
     },
     "execution_count": 6,
     "metadata": {},
     "output_type": "execute_result"
    }
   ],
   "source": [
    "date + np.arange(6)"
   ]
  },
  {
   "cell_type": "markdown",
   "metadata": {},
   "source": [
    "`datetime64` and `timedelta` are both built upon a **fundamental time unit** and so the range of encodable dates = \n",
    "\n",
    "$$ 2^{64} \\cdot (t_{u}) $$\n",
    "\n",
    "where $t_{u}$ is the smallest unit of time measured **(time resolution)** and the product above is the **max time span**  \n",
    "\n",
    "$ns = 10^{-9}$ (nanoseconds) are the default ftu. but there are quite a few codes that can be used."
   ]
  },
  {
   "cell_type": "code",
   "execution_count": 7,
   "metadata": {
    "execution": {
     "iopub.execute_input": "2020-10-05T13:53:22.957474Z",
     "iopub.status.busy": "2020-10-05T13:53:22.957114Z",
     "iopub.status.idle": "2020-10-05T13:53:22.960429Z",
     "shell.execute_reply": "2020-10-05T13:53:22.960112Z"
    }
   },
   "outputs": [
    {
     "data": {
      "text/plain": [
       "numpy.datetime64('2020-08-11T00:00:00.000000000')"
      ]
     },
     "execution_count": 7,
     "metadata": {},
     "output_type": "execute_result"
    }
   ],
   "source": [
    "np.datetime64('2020-08-11', 'ns')"
   ]
  },
  {
   "cell_type": "markdown",
   "metadata": {},
   "source": [
    "Here are the various codes for `datetime64`:  \n",
    "\n",
    "- `Y` : year\n",
    "- `M` : month\n",
    "- `W` : ...\n",
    "- `D` : \n",
    "- `h` : \n",
    "- `m` :\n",
    "- `s` :\n",
    "- `ms` : millisecond\n",
    "- `us` : microsecond $10^{-6}$ one millionth of a second\n",
    "- `ns` : nanosecond\n",
    "- `ps` : picosecond $10^{-12}$ one trillionth of a second\n",
    "- `fs` : femtosecond\n",
    "- `as` : attosecond $10^{-18}$ one quintillionth of a second"
   ]
  },
  {
   "cell_type": "markdown",
   "metadata": {},
   "source": [
    "(pandasdate)=\n",
    "## Dates and Times in Pandas"
   ]
  },
  {
   "cell_type": "markdown",
   "metadata": {},
   "source": [
    "Pandas builds upon `datetime`, `dateutils`, and `datetime64` to provide objects such as `Timestamp` that takes the best part of each:  \n",
    "\n",
    "The flexibility and ease of use of native `python3` packages, and the efficient storage and vectorized interface of `numpy`"
   ]
  },
  {
   "cell_type": "code",
   "execution_count": 8,
   "metadata": {
    "execution": {
     "iopub.execute_input": "2020-10-05T13:53:22.963335Z",
     "iopub.status.busy": "2020-10-05T13:53:22.962976Z",
     "iopub.status.idle": "2020-10-05T13:53:23.192579Z",
     "shell.execute_reply": "2020-10-05T13:53:23.192872Z"
    }
   },
   "outputs": [
    {
     "data": {
      "text/plain": [
       "Timestamp('2020-08-11 00:00:00')"
      ]
     },
     "execution_count": 8,
     "metadata": {},
     "output_type": "execute_result"
    }
   ],
   "source": [
    "import pandas as pd\n",
    "date = pd.to_datetime('11 of August, 2020')\n",
    "date"
   ]
  },
  {
   "cell_type": "code",
   "execution_count": 9,
   "metadata": {
    "execution": {
     "iopub.execute_input": "2020-10-05T13:53:23.195846Z",
     "iopub.status.busy": "2020-10-05T13:53:23.195495Z",
     "iopub.status.idle": "2020-10-05T13:53:23.198670Z",
     "shell.execute_reply": "2020-10-05T13:53:23.198341Z"
    }
   },
   "outputs": [
    {
     "data": {
      "text/plain": [
       "'Tuesday'"
      ]
     },
     "execution_count": 9,
     "metadata": {},
     "output_type": "execute_result"
    }
   ],
   "source": [
    "date.strftime(\"%A\")"
   ]
  },
  {
   "cell_type": "code",
   "execution_count": null,
   "metadata": {},
   "outputs": [],
   "source": []
  }
 ],
 "metadata": {
  "kernelspec": {
   "display_name": "Python 3",
   "language": "python",
   "name": "python3"
  },
  "language_info": {
   "codemirror_mode": {
    "name": "ipython",
    "version": 3
   },
   "file_extension": ".py",
   "mimetype": "text/x-python",
   "name": "python",
   "nbconvert_exporter": "python",
   "pygments_lexer": "ipython3",
   "version": "3.8.3"
  }
 },
 "nbformat": 4,
 "nbformat_minor": 4
}