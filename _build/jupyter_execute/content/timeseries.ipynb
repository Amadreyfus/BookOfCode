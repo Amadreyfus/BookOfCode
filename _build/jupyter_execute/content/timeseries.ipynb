{
 "cells": [
  {
   "cell_type": "markdown",
   "metadata": {},
   "source": [
    "(time)=\n",
    "# Time Series / Dates"
   ]
  },
  {
   "cell_type": "markdown",
   "metadata": {},
   "source": [
    "Key ways of thinking about time in python:\n",
    "\n",
    "- **Timestamp**: An instant in time\n",
    "- **Period**: Some established interval of time, usually a month, year. Special case of interval\n",
    "- **Interval**: An arbitrary interval of time.\n",
    "- **Experimental / Elapsed time**: Represents elapsed time from some chosen start point."
   ]
  },
  {
   "cell_type": "markdown",
   "metadata": {},
   "source": [
    "Important Native-Python Packages concering date:\n",
    "\n",
    "- [`datetime`](https://docs.python.org/3/library/datetime.html)\n",
    "- [`dateutil`](https://dateutil.readthedocs.io/en/stable/)"
   ]
  },
  {
   "cell_type": "code",
   "execution_count": 1,
   "metadata": {},
   "outputs": [
    {
     "name": "stdout",
     "output_type": "stream",
     "text": [
      "datetime.now() : 2020-12-26 11:51:59.401757\n",
      "datetime.now().year : 2020\n"
     ]
    }
   ],
   "source": [
    "from datetime import datetime\n",
    "print(f'datetime.now() : {datetime.now()}')\n",
    "print(f'datetime.now().year : {datetime.now().year}')"
   ]
  },
  {
   "cell_type": "code",
   "execution_count": 2,
   "metadata": {},
   "outputs": [
    {
     "data": {
      "text/plain": [
       "datetime.datetime(2015, 7, 4, 0, 0)"
      ]
     },
     "execution_count": 2,
     "metadata": {},
     "output_type": "execute_result"
    }
   ],
   "source": [
    "from dateutil import parser\n",
    "date = parser.parse(\"4th of July, 2015\")\n",
    "date"
   ]
  },
  {
   "cell_type": "markdown",
   "metadata": {},
   "source": [
    "Types available in the datetime module:\n",
    "\n",
    "- `date` -   Date object (only concerned with calendar type dates)\n",
    "- `time` -   Time object concerned with time of a date\n",
    "- `datetime` -  Combo of both\n",
    "- `timedelta` - Differences between to datetime objects\n",
    "- `tzinfo` - Time zone things"
   ]
  },
  {
   "cell_type": "markdown",
   "metadata": {},
   "source": [
    "(timestr)=\n",
    "## Strings and strftime"
   ]
  },
  {
   "cell_type": "markdown",
   "metadata": {},
   "source": [
    "Once you have a datetime object or some date ready to be converted into one, it is easy to convert and format into a string"
   ]
  },
  {
   "cell_type": "code",
   "execution_count": 3,
   "metadata": {},
   "outputs": [
    {
     "name": "stdout",
     "output_type": "stream",
     "text": [
      "2020-12-26 11:51:59.416956\n"
     ]
    }
   ],
   "source": [
    "stamp = datetime.now()\n",
    "print(str(stamp))"
   ]
  },
  {
   "cell_type": "code",
   "execution_count": 4,
   "metadata": {},
   "outputs": [
    {
     "data": {
      "text/plain": [
       "'2020-12'"
      ]
     },
     "execution_count": 4,
     "metadata": {},
     "output_type": "execute_result"
    }
   ],
   "source": [
    "stamp.strftime('%Y-%m')"
   ]
  },
  {
   "cell_type": "markdown",
   "metadata": {},
   "source": [
    "(strf)=\n",
    "### Strftime\n",
    "\n",
    "**strftime** allows you to select certain parts of the datetime object with using the special formatting codes. Here is a list of common ones: (ISO C89 compatible)\n",
    "\n",
    "- `%Y` : 4 digit year\n",
    "- `%y` : 2 digit year\n",
    "- `%m` : 2 digit month\n",
    "- `%d` : 2 digit day\n",
    "- `%H` : military time hour\n",
    "- `%h` : 12 hour [01,12]\n",
    "- `%M` : 2 digit minute [00,59]\n",
    "- `%S` : seconds [00,61]\n",
    "- `%w` : weekday as an integer\n",
    "- `%F` : shortcut for `%Y-%m-%d`\n",
    "- `%D` : shortcut for `%d/%m/%y`\n"
   ]
  },
  {
   "cell_type": "markdown",
   "metadata": {},
   "source": [
    "Here is a list of useful locale-specific **strftime** codes:\n",
    "\n",
    "- `%a` : abbreviated day name\n",
    "- `%A` : Full-length day name\n",
    "- `%b` : abbreviated month name\n",
    "- `%B` : Full month name\n",
    "- `%c` : full date-time (Tue 01 May 2012 04:20:57 PM’)\n",
    "- `%p` : locale equivalent of a.m./p.m.\n",
    "- `%x` : locale-appropriate formatted date (%c)\n",
    "- `%X` : locale-appropriate time"
   ]
  },
  {
   "cell_type": "markdown",
   "metadata": {},
   "source": [
    "(datetime64)=\n",
    "## Numpy [datetime64](https://numpy.org/doc/stable/reference/arrays.datetime.html)"
   ]
  },
  {
   "cell_type": "markdown",
   "metadata": {},
   "source": [
    "Like most native python objects and and processes - problems with efficiency and speed arise when dealing with large quantities and loops. \n",
    "\n",
    "The dypte **datetime64** was developed in order to address these problems."
   ]
  },
  {
   "cell_type": "markdown",
   "metadata": {},
   "source": [
    "The `datetime64` datatype encodes dates as 64 bit integers (which allows dates to be represented compactly)"
   ]
  },
  {
   "cell_type": "code",
   "execution_count": 5,
   "metadata": {},
   "outputs": [
    {
     "data": {
      "text/plain": [
       "array('2020-07-04', dtype='datetime64[D]')"
      ]
     },
     "execution_count": 5,
     "metadata": {},
     "output_type": "execute_result"
    }
   ],
   "source": [
    "import numpy as np\n",
    "date = np.array('2020-07-04', dtype='datetime64[D]')\n",
    "date"
   ]
  },
  {
   "cell_type": "markdown",
   "metadata": {},
   "source": [
    "Dates in this format allow for vectorized operations. \n",
    "````{margin}\n",
    "```{note}\n",
    "Recall that alot of the speed attainable in `numpy` is due to the uniformity \n",
    "of dtype in numpy arrays\n",
    "```\n",
    "````"
   ]
  },
  {
   "cell_type": "code",
   "execution_count": 6,
   "metadata": {},
   "outputs": [
    {
     "data": {
      "text/plain": [
       "array(['2020-07-04', '2020-07-05', '2020-07-06', '2020-07-07',\n",
       "       '2020-07-08', '2020-07-09'], dtype='datetime64[D]')"
      ]
     },
     "execution_count": 6,
     "metadata": {},
     "output_type": "execute_result"
    }
   ],
   "source": [
    "date + np.arange(6)"
   ]
  },
  {
   "cell_type": "markdown",
   "metadata": {},
   "source": [
    "`datetime64` and `timedelta` are both built upon a **fundamental time unit** and so the range of encodable dates = \n",
    "\n",
    "$$ 2^{64} \\cdot (t_{u}) $$\n",
    "\n",
    "where $t_{u}$ is the smallest unit of time measured **(time resolution)** and the product above is the **max time span**  \n",
    "\n",
    "$ns = 10^{-9}$ (nanoseconds) are the default ftu. but there are quite a few codes that can be used."
   ]
  },
  {
   "cell_type": "code",
   "execution_count": 7,
   "metadata": {},
   "outputs": [
    {
     "data": {
      "text/plain": [
       "numpy.datetime64('2020-08-11T00:00:00.000000000')"
      ]
     },
     "execution_count": 7,
     "metadata": {},
     "output_type": "execute_result"
    }
   ],
   "source": [
    "np.datetime64('2020-08-11', 'ns')"
   ]
  },
  {
   "cell_type": "markdown",
   "metadata": {},
   "source": [
    "Here are the various codes for `datetime64`:  \n",
    "\n",
    "- `Y` : year\n",
    "- `M` : month\n",
    "- `W` : ...\n",
    "- `D` : \n",
    "- `h` : \n",
    "- `m` :\n",
    "- `s` :\n",
    "- `ms` : millisecond\n",
    "- `us` : microsecond $10^{-6}$ one millionth of a second\n",
    "- `ns` : nanosecond\n",
    "- `ps` : picosecond $10^{-12}$ one trillionth of a second\n",
    "- `fs` : femtosecond\n",
    "- `as` : attosecond $10^{-18}$ one quintillionth of a second"
   ]
  },
  {
   "cell_type": "markdown",
   "metadata": {},
   "source": [
    "(pandasdate)=\n",
    "## Dates and Times in Pandas"
   ]
  },
  {
   "cell_type": "markdown",
   "metadata": {},
   "source": [
    "Pandas builds upon `datetime`, `dateutils`, and `datetime64` to provide objects such as `Timestamp` that takes the best part of each:  \n",
    "\n",
    "The flexibility and ease of use of native `python3` packages, and the efficient storage and vectorized interface of `numpy`"
   ]
  },
  {
   "cell_type": "code",
   "execution_count": 8,
   "metadata": {},
   "outputs": [
    {
     "data": {
      "text/plain": [
       "Timestamp('2020-08-11 00:00:00')"
      ]
     },
     "execution_count": 8,
     "metadata": {},
     "output_type": "execute_result"
    }
   ],
   "source": [
    "import pandas as pd\n",
    "date = pd.to_datetime('11 of August, 2020')\n",
    "date"
   ]
  },
  {
   "cell_type": "code",
   "execution_count": 9,
   "metadata": {},
   "outputs": [
    {
     "data": {
      "text/plain": [
       "'Tuesday'"
      ]
     },
     "execution_count": 9,
     "metadata": {},
     "output_type": "execute_result"
    }
   ],
   "source": [
    "date.strftime(\"%A\")"
   ]
  },
  {
   "cell_type": "code",
   "execution_count": 10,
   "metadata": {},
   "outputs": [
    {
     "data": {
      "text/plain": [
       "DatetimeIndex(['2020-08-11', '2020-08-12', '2020-08-13', '2020-08-14',\n",
       "               '2020-08-15'],\n",
       "              dtype='datetime64[ns]', freq=None)"
      ]
     },
     "execution_count": 10,
     "metadata": {},
     "output_type": "execute_result"
    }
   ],
   "source": [
    "date + pd.to_timedelta(np.arange(5), \"D\")"
   ]
  },
  {
   "cell_type": "markdown",
   "metadata": {},
   "source": [
    "(timeindex)=\n",
    "### Indexing by Timestamp"
   ]
  },
  {
   "cell_type": "markdown",
   "metadata": {},
   "source": [
    "The power of datetime in pandas becomes apparent when we begin to index by timestamp allowing us to parse data easily w.r.t. time.  \n",
    "\n",
    "We do this by constructing an a DatetimeIndex and using that as our index for our series/df. We can accomplish this explicitly by passing an array of properly formatted\n",
    "timestamps to `pd.DatetimeIndex()` or using pandas excellent `pd.to_datetime()` function:"
   ]
  },
  {
   "cell_type": "code",
   "execution_count": 11,
   "metadata": {},
   "outputs": [
    {
     "data": {
      "text/plain": [
       "DatetimeIndex(['2020-08-11', '2020-08-12', '2020-08-13'], dtype='datetime64[ns]', freq=None)"
      ]
     },
     "execution_count": 11,
     "metadata": {},
     "output_type": "execute_result"
    }
   ],
   "source": [
    "index1 = pd.DatetimeIndex(['2020-08-11', '2020-08-12', '2020-08-13'])\n",
    "index1"
   ]
  },
  {
   "cell_type": "code",
   "execution_count": 12,
   "metadata": {},
   "outputs": [
    {
     "data": {
      "text/plain": [
       "DatetimeIndex(['2020-08-11', '2020-08-12', '2020-08-13'], dtype='datetime64[ns]', freq=None)"
      ]
     },
     "execution_count": 12,
     "metadata": {},
     "output_type": "execute_result"
    }
   ],
   "source": [
    "dates = ['August 11th, 2020', 'August 12th, 2020', 'August 13th, 2020']\n",
    "index2 = pd.to_datetime(dates)\n",
    "index2"
   ]
  },
  {
   "cell_type": "markdown",
   "metadata": {},
   "source": [
    "(datastructures)=\n",
    "### Time Data Structures in Pandas"
   ]
  },
  {
   "cell_type": "markdown",
   "metadata": {},
   "source": [
    "`Timestamp`: essentially a replacement for native python `datetime` based on more efficient `datetime64` datatype  \n",
    "\n",
    "`DatetimeIndex` : Index data structure associated with `Timestamp`\n",
    "\n",
    "---"
   ]
  },
  {
   "cell_type": "markdown",
   "metadata": {},
   "source": [
    "`Period`: A fixed-frequency interval into which `Timestamps` either fall or do not.  \n",
    "\n",
    "`PeriodIndex`: Associated Index data structure/\n",
    "\n",
    "---"
   ]
  },
  {
   "cell_type": "markdown",
   "metadata": {},
   "source": [
    "`Timedelta`: a duration, small amount of elapsed time from some reference.  \n",
    "\n",
    "`TimedeltaIndex`: Associated index data structure.\n",
    "\n",
    "---"
   ]
  },
  {
   "cell_type": "markdown",
   "metadata": {},
   "source": [
    "`Timestamp` and `DatetimeIndex` are the fundamental date/time objects in pandas.  \n",
    "\n",
    "Although they can be invoked directly it is much more common to use the `pd.to_datetime()` function, **which can parse a wide variety of formats.**"
   ]
  },
  {
   "cell_type": "markdown",
   "metadata": {},
   "source": [
    "```{note}\n",
    "Any `DatetimeIndex` can be converted to a `PeriodIndex` with the `pd.to_period()` function with the addition of the desired\n",
    "frequency code (ex. 'D').\n",
    "```"
   ]
  },
  {
   "cell_type": "markdown",
   "metadata": {},
   "source": [
    "(dateseq)=\n",
    "### Functions that allow for creation of Date Sequences"
   ]
  },
  {
   "cell_type": "markdown",
   "metadata": {},
   "source": [
    "`pd.date_range()`  \n",
    "`pd.period_range()`  \n",
    "`pd.timedelta_range()`"
   ]
  },
  {
   "cell_type": "markdown",
   "metadata": {},
   "source": [
    "Like the native python `range()` function these calls allow for specification of start, stop and step/frequency to create a sequence of date/time objects."
   ]
  },
  {
   "cell_type": "code",
   "execution_count": 13,
   "metadata": {},
   "outputs": [
    {
     "data": {
      "text/plain": [
       "DatetimeIndex(['2020-08-11', '2020-08-12', '2020-08-13', '2020-08-14',\n",
       "               '2020-08-15', '2020-08-16', '2020-08-17'],\n",
       "              dtype='datetime64[ns]', freq='D')"
      ]
     },
     "execution_count": 13,
     "metadata": {},
     "output_type": "execute_result"
    }
   ],
   "source": [
    "pd.date_range('2020-08-11', '2020-08-17')"
   ]
  },
  {
   "cell_type": "code",
   "execution_count": 14,
   "metadata": {},
   "outputs": [
    {
     "data": {
      "text/plain": [
       "DatetimeIndex(['2020-08-11', '2020-08-12', '2020-08-13', '2020-08-14',\n",
       "               '2020-08-15', '2020-08-16', '2020-08-17'],\n",
       "              dtype='datetime64[ns]', freq='D')"
      ]
     },
     "execution_count": 14,
     "metadata": {},
     "output_type": "execute_result"
    }
   ],
   "source": [
    "pd.date_range('2020-08-11', periods=7, freq=\"D\")"
   ]
  },
  {
   "cell_type": "code",
   "execution_count": 15,
   "metadata": {},
   "outputs": [
    {
     "data": {
      "text/plain": [
       "PeriodIndex(['2020-01', '2020-02', '2020-03', '2020-04', '2020-05', '2020-06'], dtype='period[M]', freq='M')"
      ]
     },
     "execution_count": 15,
     "metadata": {},
     "output_type": "execute_result"
    }
   ],
   "source": [
    "pd.period_range('2020-01', periods=6, freq=\"M\")"
   ]
  },
  {
   "cell_type": "code",
   "execution_count": 16,
   "metadata": {},
   "outputs": [
    {
     "data": {
      "text/plain": [
       "TimedeltaIndex(['0 days 00:00:00', '0 days 01:00:00', '0 days 02:00:00',\n",
       "                '0 days 03:00:00', '0 days 04:00:00', '0 days 05:00:00',\n",
       "                '0 days 06:00:00', '0 days 07:00:00', '0 days 08:00:00',\n",
       "                '0 days 09:00:00'],\n",
       "               dtype='timedelta64[ns]', freq='H')"
      ]
     },
     "execution_count": 16,
     "metadata": {},
     "output_type": "execute_result"
    }
   ],
   "source": [
    "pd.timedelta_range(0, periods=10, freq='H')"
   ]
  },
  {
   "cell_type": "markdown",
   "metadata": {},
   "source": [
    "(freqcodes)=\n",
    "### Frequency Codes"
   ]
  },
  {
   "cell_type": "markdown",
   "metadata": {},
   "source": [
    "#### Conventional Time"
   ]
  },
  {
   "cell_type": "markdown",
   "metadata": {},
   "source": [
    "`D` : Calendar Day  \n",
    "`W` : Weekly  \n",
    "`M` : Month End  \n",
    "`A` : Year End  \n",
    "`H` : Hourly  \n",
    "`T` : Minutes  \n",
    "`S` : Seconds  \n",
    "`L` : Milliseconds  \n",
    "`U` : Microseconds  \n",
    "`N` : Nanoseconds  "
   ]
  },
  {
   "cell_type": "markdown",
   "metadata": {},
   "source": [
    "#### Business Time"
   ]
  },
  {
   "cell_type": "markdown",
   "metadata": {},
   "source": [
    "`B` : Business Day  \n",
    "`BM` : Business Month End  \n",
    "`BQ` : Business Quarter End  \n",
    "`BA` : Business Year End "
   ]
  },
  {
   "cell_type": "markdown",
   "metadata": {},
   "source": [
    "```{important}\n",
    "Adding `S` to any monthly, quarterly or annual period will change the marker from the end of the period to the beginning.\n",
    "\n",
    "ex. `MS` or `BMS`\n",
    "```"
   ]
  },
  {
   "cell_type": "markdown",
   "metadata": {},
   "source": [
    "#### Other Modifications to Ranges/Periods"
   ]
  },
  {
   "cell_type": "markdown",
   "metadata": {},
   "source": [
    "In addition to changing the start or ending of a period as a split point you have other flexibility.  \n",
    "\n",
    "You can change the month used to mark any quarterly or annual code by adding a 3-letter suffix code to the original:  \n",
    "\n",
    "`Q-JAN`, `BQS-APR`, `A-FEB`, `BAS-APR`  \n",
    "\n",
    "You can also modify the split points of other periods such as week:  \n",
    "\n",
    "`W-SUN`, `W-TUE`"
   ]
  },
  {
   "cell_type": "markdown",
   "metadata": {},
   "source": [
    "(offsets)=\n",
    "#### Offsets\n",
    "\n",
    "[pandas offset documentation](https://pandas.pydata.org/pandas-docs/stable/user_guide/timeseries.html#time-date-components)\n",
    "\n",
    "Pandas allows us to specify offsets which help select dates in a range based on some criterion."
   ]
  },
  {
   "cell_type": "code",
   "execution_count": 17,
   "metadata": {},
   "outputs": [
    {
     "data": {
      "text/plain": [
       "DatetimeIndex(['2020-10-05', '2020-10-06', '2020-10-07', '2020-10-08',\n",
       "               '2020-10-09'],\n",
       "              dtype='datetime64[ns]', freq='B')"
      ]
     },
     "execution_count": 17,
     "metadata": {},
     "output_type": "execute_result"
    }
   ],
   "source": [
    "from pandas.tseries.offsets import BDay\n",
    "pd.date_range('2020-10-04', periods=5, freq=BDay()) # selects the next 5 business days on or after intial date"
   ]
  },
  {
   "cell_type": "code",
   "execution_count": null,
   "metadata": {},
   "outputs": [],
   "source": []
  }
 ],
 "metadata": {
  "kernelspec": {
   "display_name": "Python 3",
   "language": "python",
   "name": "python3"
  },
  "language_info": {
   "codemirror_mode": {
    "name": "ipython",
    "version": 3
   },
   "file_extension": ".py",
   "mimetype": "text/x-python",
   "name": "python",
   "nbconvert_exporter": "python",
   "pygments_lexer": "ipython3",
   "version": "3.8.6"
  }
 },
 "nbformat": 4,
 "nbformat_minor": 4
}