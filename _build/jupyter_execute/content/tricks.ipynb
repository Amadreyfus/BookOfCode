{
 "cells": [
  {
   "cell_type": "markdown",
   "metadata": {},
   "source": [
    "(tricks)=\n",
    "# Useful Tricks for Ipython / Data Science"
   ]
  },
  {
   "cell_type": "markdown",
   "metadata": {},
   "source": [
    "(shifttab)=\n",
    "## Shift + Tab in method parentheses"
   ]
  },
  {
   "cell_type": "markdown",
   "metadata": {},
   "source": [
    "In a python method call that has optional arguments, i.e. `object.method()`, you can place the cursor inside the parantheses and press `Shift + Tab` to pull up documentation on the method.  \n",
    "\n",
    "You can repeat this `Shift + Tab` operation up to 4 times each subsequent call modifying the information displayed with increasing duration, size, info...."
   ]
  },
  {
   "cell_type": "markdown",
   "metadata": {},
   "source": [
    "(multiplefilter)=\n",
    "## Applying multiple filter criteria to a DataFrame"
   ]
  },
  {
   "cell_type": "markdown",
   "metadata": {},
   "source": [
    "In a dataframe with multiple columns you can use bitwise logical operators (`&`, `|`, `~`, `^`) to chain the filtering conditions together:   \n",
    "\n",
    "For example:\n",
    "\n",
    "```python\n",
    "df[(df.column1 > value1) | (df.column2 == value1)]\n",
    "```"
   ]
  },
  {
   "cell_type": "markdown",
   "metadata": {},
   "source": [
    "Another nice trick for filtering a df based on certain values in a Series/columnd is to use `.isin()`\n",
    "\n",
    "```python\n",
    "df[df.column.isin([value1, value2, value3])\n",
    "```   "
   ]
  },
  {
   "cell_type": "code",
   "execution_count": null,
   "metadata": {},
   "outputs": [],
   "source": []
  }
 ],
 "metadata": {
  "kernelspec": {
   "display_name": "Python 3",
   "language": "python",
   "name": "python3"
  },
  "language_info": {
   "codemirror_mode": {
    "name": "ipython",
    "version": 3
   },
   "file_extension": ".py",
   "mimetype": "text/x-python",
   "name": "python",
   "nbconvert_exporter": "python",
   "pygments_lexer": "ipython3",
   "version": "3.8.3"
  }
 },
 "nbformat": 4,
 "nbformat_minor": 4
}