{
 "cells": [
  {
   "cell_type": "markdown",
   "metadata": {},
   "source": [
    "(snippets)=\n",
    "# Python Coding Snippets\n",
    "\n",
    "**Quick References to Page Content**\n",
    "\n",
    "- {ref}`Basic Python <basic_python>`\n",
    "  -  {ref}`List Operations <list_ops>`\n",
    "  -  {ref}`Dictionary Operations <dict_ops>`\n",
    "  -  {ref}`Random Package <random_package>`\n",
    "- {ref}`Slick Sorting and Other Tricks <sorting>` \n",
    "\n",
    "(basic_python)=\n",
    "## Basic Python\n",
    "\n",
    "(list_ops)= \n",
    "### List Operations\n",
    "\n",
    "<br />\n",
    "\n",
    "**Quick Ref**\n",
    "- {ref}`List of Consecutive Integers <list_consec>`\n",
    "- {ref}`Merging a List with its Reverse <list_merge>`\n",
    "- {ref}`Performance of Append vs Insert <list_perform>`\n",
    "\n",
    "(list_consec)=\n",
    "#### Creating a list of consecutive integers"
   ]
  },
  {
   "cell_type": "code",
   "execution_count": 1,
   "metadata": {
    "execution": {
     "iopub.execute_input": "2020-09-09T15:14:41.423219Z",
     "iopub.status.busy": "2020-09-09T15:14:41.422848Z",
     "iopub.status.idle": "2020-09-09T15:14:41.425723Z",
     "shell.execute_reply": "2020-09-09T15:14:41.424970Z"
    },
    "tags": [
     "hide-output"
    ]
   },
   "outputs": [
    {
     "data": {
      "text/plain": [
       "[0, 1, 2, 3, 4, 5, 6, 7, 8, 9]"
      ]
     },
     "execution_count": 1,
     "metadata": {},
     "output_type": "execute_result"
    }
   ],
   "source": [
    "list(range(10))\n",
    "[i for i in range(10)]"
   ]
  },
  {
   "cell_type": "markdown",
   "metadata": {},
   "source": [
    "(list_merge)=\n",
    "#### Merging a list with its reverse"
   ]
  },
  {
   "cell_type": "code",
   "execution_count": 2,
   "metadata": {
    "execution": {
     "iopub.execute_input": "2020-09-09T15:14:41.428811Z",
     "iopub.status.busy": "2020-09-09T15:14:41.428431Z",
     "iopub.status.idle": "2020-09-09T15:14:41.431123Z",
     "shell.execute_reply": "2020-09-09T15:14:41.430257Z"
    }
   },
   "outputs": [
    {
     "name": "stdout",
     "output_type": "stream",
     "text": [
      "[('S', 'l'), ('e', 'l'), ('a', 'i'), ('n', 'h'), ('C', 'a'), ('a', 'C'), ('h', 'n'), ('i', 'a'), ('l', 'e'), ('l', 'S')]\n"
     ]
    }
   ],
   "source": [
    "name = 'SeanCahill'\n",
    "merge = [(f,b) for f,b in zip(name, name[::-1])]\n",
    "print(merge)"
   ]
  },
  {
   "cell_type": "markdown",
   "metadata": {},
   "source": [
    "(list_perform)=\n",
    "#### Checking the Performance of Insert Vs Append. \n",
    "\n",
    "**Appending is generally a much faster operation than arbitrary insertion.** \n",
    "\n",
    "````{margin}\n",
    "```{note}\n",
    "Although inserting at the `[-1]`\n",
    "is of a comparable runtime.\n",
    "```\n",
    "````"
   ]
  },
  {
   "cell_type": "code",
   "execution_count": 3,
   "metadata": {
    "execution": {
     "iopub.execute_input": "2020-09-09T15:14:41.442920Z",
     "iopub.status.busy": "2020-09-09T15:14:41.437690Z",
     "iopub.status.idle": "2020-09-09T15:14:42.805243Z",
     "shell.execute_reply": "2020-09-09T15:14:42.804875Z"
    }
   },
   "outputs": [
    {
     "name": "stdout",
     "output_type": "stream",
     "text": [
      "The slowest run took 131.29 times longer than the fastest. This could mean that an intermediate result is being cached.\n",
      "13.7 µs ± 7.86 µs per loop (mean ± std. dev. of 100 runs, 1000 loops each)\n"
     ]
    }
   ],
   "source": [
    "c0 = []\n",
    "t_insert = %timeit -o -n1000 -r100 c0.insert(0, 'a')"
   ]
  },
  {
   "cell_type": "code",
   "execution_count": 4,
   "metadata": {
    "execution": {
     "iopub.execute_input": "2020-09-09T15:14:42.813840Z",
     "iopub.status.busy": "2020-09-09T15:14:42.813438Z",
     "iopub.status.idle": "2020-09-09T15:14:42.816122Z",
     "shell.execute_reply": "2020-09-09T15:14:42.815826Z"
    }
   },
   "outputs": [
    {
     "name": "stdout",
     "output_type": "stream",
     "text": [
      "44.8 ns ± 16.7 ns per loop (mean ± std. dev. of 100 runs, 1000 loops each)\n"
     ]
    }
   ],
   "source": [
    "c1 = []\n",
    "t_append = %timeit -o -n1000 -r100 c1.append('a')"
   ]
  },
  {
   "cell_type": "markdown",
   "metadata": {},
   "source": [
    "<br />\n",
    "Let us see the the ratio of execution times for these two cell blocks:  \n",
    "\n",
    "<br />"
   ]
  },
  {
   "cell_type": "code",
   "execution_count": 5,
   "metadata": {
    "execution": {
     "iopub.execute_input": "2020-09-09T15:14:42.823539Z",
     "iopub.status.busy": "2020-09-09T15:14:42.823177Z",
     "iopub.status.idle": "2020-09-09T15:14:42.825725Z",
     "shell.execute_reply": "2020-09-09T15:14:42.824876Z"
    }
   },
   "outputs": [
    {
     "name": "stdout",
     "output_type": "stream",
     "text": [
      "==> (insert time)/(append time) for 1000 operations: ~305.343630017281x\n"
     ]
    }
   ],
   "source": [
    "#Asserting that both lists are equivalent\n",
    "assert all([a == b for a, b in zip(c0, c1)]), \"Answers differed?\"\n",
    "\n",
    "print(f'==> (insert time)/(append time) for 1000 operations: ~{t_insert.average/t_append.average}x')"
   ]
  },
  {
   "cell_type": "markdown",
   "metadata": {},
   "source": [
    "<br />\n",
    "Here is the same thing with more loops to demonstrate scaling. That is\n",
    "as the number of ops grows, so will execution time.\n",
    "\n",
    "<br />\n",
    "\n",
    "```python\n",
    "#Same experiment as above, but triple the ops\n",
    "c0 = []\n",
    "t_insert = %timeit -o -n3000 -r100 c0.insert(0, 'a')\n",
    "```\n",
    "\n",
    "```{glue:} t_insert\n",
    "```\n",
    "\n",
    "```python\n",
    "# Append the same 100,000 values at the end of the list\n",
    "c1 = []\n",
    "t_append = %timeit -o -n3000 -r100 c1.append('a')\n",
    "```\n",
    "\n",
    "```{glue:} t_append\n",
    "```\n",
    "\n",
    "```python\n",
    "# Verify that the outputs of the above are the same\n",
    "assert all([a == b for a, b in zip(c0, c1)]), \"Answers differed?\"\n",
    "\n",
    "# Report the ratio of execution times\n",
    "print(f\"\\n==> (insert time) / (append time) for 3,000 ops: ~ {t_insert.average/t_append.average}x\")\n",
    "```\n",
    "\n",
    "(insert time) / (append time) for 3,000 ops: ~ {glue:text}`t_ratio`x\n",
    "\n",
    "(dict_ops)=\n",
    "### Dictionary Operations\n",
    "\n",
    "#### Creating a Dictionary using enumerate() iterator"
   ]
  },
  {
   "cell_type": "code",
   "execution_count": 6,
   "metadata": {
    "execution": {
     "iopub.execute_input": "2020-09-09T15:14:42.828571Z",
     "iopub.status.busy": "2020-09-09T15:14:42.828236Z",
     "iopub.status.idle": "2020-09-09T15:14:42.830957Z",
     "shell.execute_reply": "2020-09-09T15:14:42.829967Z"
    }
   },
   "outputs": [
    {
     "name": "stdout",
     "output_type": "stream",
     "text": [
      "{'a': 0, 'b': 1, 'c': 2, 'd': 3, 'e': 4, 'f': 5, 'g': 6, 'h': 7, 'i': 8, 'j': 9, 'k': 10}\n"
     ]
    }
   ],
   "source": [
    "D = {k: v for v, k in enumerate('abcdefghijk')}\n",
    "print(D)"
   ]
  },
  {
   "cell_type": "markdown",
   "metadata": {},
   "source": [
    "(random_package)=\n",
    "### Random Package\n",
    "\n",
    "(basic_perm)=\n",
    "#### Basic permutations on a list"
   ]
  },
  {
   "cell_type": "code",
   "execution_count": 7,
   "metadata": {
    "execution": {
     "iopub.execute_input": "2020-09-09T15:14:42.833752Z",
     "iopub.status.busy": "2020-09-09T15:14:42.833395Z",
     "iopub.status.idle": "2020-09-09T15:14:42.835913Z",
     "shell.execute_reply": "2020-09-09T15:14:42.835110Z"
    }
   },
   "outputs": [
    {
     "name": "stdout",
     "output_type": "stream",
     "text": [
      "[0, 3, 4, 7, 2, 9, 8, 5, 6, 1]\n"
     ]
    }
   ],
   "source": [
    "from random import shuffle\n",
    "g = [i for i in range(10)]\n",
    "shuffle(g)\n",
    "print(g)"
   ]
  },
  {
   "cell_type": "markdown",
   "metadata": {},
   "source": [
    "(sorting)=\n",
    "### Slick Tricks Involving Sorting and Parsing\n",
    "\n",
    "(sort_dic_by_key)=\n",
    "#### Sorting a Dictionary by a Specific Key"
   ]
  },
  {
   "cell_type": "code",
   "execution_count": 8,
   "metadata": {
    "execution": {
     "iopub.execute_input": "2020-09-09T15:14:42.839820Z",
     "iopub.status.busy": "2020-09-09T15:14:42.839462Z",
     "iopub.status.idle": "2020-09-09T15:14:42.842509Z",
     "shell.execute_reply": "2020-09-09T15:14:42.842208Z"
    }
   },
   "outputs": [
    {
     "data": {
      "text/plain": [
       "[{'first': 'Grace', 'last': 'Hopper', 'YOB': 1906},\n",
       " {'first': 'Alan', 'last': 'Turing', 'YOB': 1912},\n",
       " {'first': 'Guido', 'last': 'Van Rossum', 'YOB': 1956}]"
      ]
     },
     "execution_count": 8,
     "metadata": {},
     "output_type": "execute_result"
    }
   ],
   "source": [
    "data = [{'first':'Guido', 'last':'Van Rossum', 'YOB':1956},\n",
    "        {'first':'Grace', 'last':'Hopper',     'YOB':1906},\n",
    "        {'first':'Alan',  'last':'Turing',     'YOB':1912}]\n",
    "\n",
    "sorted(data, key=lambda x: x['YOB'])"
   ]
  }
 ],
 "metadata": {
  "jupytext": {
   "text_representation": {
    "extension": ".md",
    "format_name": "myst",
    "format_version": "0.8",
    "jupytext_version": "1.4.1"
   }
  },
  "kernelspec": {
   "display_name": "Python 3",
   "language": "python",
   "name": "python3"
  },
  "language_info": {
   "codemirror_mode": {
    "name": "ipython",
    "version": 3
   },
   "file_extension": ".py",
   "mimetype": "text/x-python",
   "name": "python",
   "nbconvert_exporter": "python",
   "pygments_lexer": "ipython3",
   "version": "3.8.3"
  },
  "source_map": [
   12,
   41,
   45,
   50,
   54,
   68,
   72,
   75,
   81,
   86,
   126,
   129,
   141,
   146,
   154
  ]
 },
 "nbformat": 4,
 "nbformat_minor": 4
}