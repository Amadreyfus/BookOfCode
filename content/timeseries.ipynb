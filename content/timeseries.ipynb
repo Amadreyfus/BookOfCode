{
 "cells": [
  {
   "cell_type": "markdown",
   "metadata": {},
   "source": [
    "(time)=\n",
    "# Time Series / Dates"
   ]
  },
  {
   "cell_type": "markdown",
   "metadata": {},
   "source": [
    "Key ways of thinking about time in python:\n",
    "\n",
    "- **Timestamp**: An instant in time\n",
    "- **Period**: Some established interval of time, usually a month, year. Special case of interval\n",
    "- **Interval**: An arbitrary interval of time.\n",
    "- **Experimental / Elapsed time**: Represents elapsed time from some chosen start point."
   ]
  },
  {
   "cell_type": "markdown",
   "metadata": {},
   "source": [
    "Important Native-Python Packages concering date:\n",
    "\n",
    "- [`datetime`](https://docs.python.org/3/library/datetime.html)\n",
    "- [`dateutil`](https://dateutil.readthedocs.io/en/stable/)"
   ]
  },
  {
   "cell_type": "code",
   "execution_count": 7,
   "metadata": {},
   "outputs": [
    {
     "name": "stdout",
     "output_type": "stream",
     "text": [
      "datetime.now() : 2020-10-03 16:59:17.351373\n",
      "datetime.now().year : 2020\n"
     ]
    }
   ],
   "source": [
    "from datetime import datetime\n",
    "print(f'datetime.now() : {datetime.now()}')\n",
    "print(f'datetime.now().year : {datetime.now().year}')"
   ]
  },
  {
   "cell_type": "code",
   "execution_count": 4,
   "metadata": {},
   "outputs": [
    {
     "data": {
      "text/plain": [
       "datetime.datetime(2015, 7, 4, 0, 0)"
      ]
     },
     "execution_count": 4,
     "metadata": {},
     "output_type": "execute_result"
    }
   ],
   "source": [
    "from dateutil import parser\n",
    "date = parser.parse(\"4th of July, 2015\")\n",
    "date"
   ]
  },
  {
   "cell_type": "markdown",
   "metadata": {},
   "source": [
    "Types available in the datetime module:\n",
    "\n",
    "- `date` -   Date object (only concerned with calendar type dates)\n",
    "- `time` -   Time object concerned with time of a date\n",
    "- `datetime` -  Combo of both\n",
    "- `timedelta` - Differences between to datetime objects\n",
    "- `tzinfo` - Time zone things"
   ]
  },
  {
   "cell_type": "markdown",
   "metadata": {},
   "source": [
    "(timestr)=\n",
    "## Strings and strftime"
   ]
  },
  {
   "cell_type": "markdown",
   "metadata": {},
   "source": [
    "Once you have a datetime object or some date ready to be converted into one, it is easy to convert and format into a string"
   ]
  },
  {
   "cell_type": "code",
   "execution_count": 11,
   "metadata": {},
   "outputs": [
    {
     "name": "stdout",
     "output_type": "stream",
     "text": [
      "2020-10-03 17:05:22.869413\n"
     ]
    }
   ],
   "source": [
    "stamp = datetime.now()\n",
    "print(str(stamp))"
   ]
  },
  {
   "cell_type": "code",
   "execution_count": 10,
   "metadata": {},
   "outputs": [
    {
     "data": {
      "text/plain": [
       "'2020-10'"
      ]
     },
     "execution_count": 10,
     "metadata": {},
     "output_type": "execute_result"
    }
   ],
   "source": [
    "stamp.strftime('%Y-%m')"
   ]
  },
  {
   "cell_type": "markdown",
   "metadata": {},
   "source": [
    "(strf)=\n",
    "### Strftime\n",
    "\n",
    "**strftime** allows you to select certain parts of the datetime object with using the special formatting codes. Here is a list of common ones:\n",
    "\n",
    "- `%Y` : 4 digit year\n",
    "- `%y` : 2 digit year\n",
    "- `%m` : 2 digit month\n",
    "- `%d` : 2 digit day\n",
    "- `%H` : military time hour\n",
    "- `%h` : 12 hour [01,12]\n",
    "- `%M` : 2 digit minute [00,59]\n",
    "- `%S` : seconds [00,61]\n",
    "- `%w` : weekday as an integer\n",
    "- `%F` : shortcut for `%Y-%m-%d`\n",
    "- `%D` : shortcut for `%d/%m/%y`\n"
   ]
  },
  {
   "cell_type": "code",
   "execution_count": null,
   "metadata": {},
   "outputs": [],
   "source": []
  }
 ],
 "metadata": {
  "kernelspec": {
   "display_name": "Python 3",
   "language": "python",
   "name": "python3"
  },
  "language_info": {
   "codemirror_mode": {
    "name": "ipython",
    "version": 3
   },
   "file_extension": ".py",
   "mimetype": "text/x-python",
   "name": "python",
   "nbconvert_exporter": "python",
   "pygments_lexer": "ipython3",
   "version": "3.8.3"
  }
 },
 "nbformat": 4,
 "nbformat_minor": 4
}
